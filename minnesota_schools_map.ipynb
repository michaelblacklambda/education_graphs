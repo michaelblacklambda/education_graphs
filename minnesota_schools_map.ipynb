{
 "cells": [
  {
   "cell_type": "code",
   "execution_count": 114,
   "metadata": {
    "jupyter": {
     "source_hidden": true
    }
   },
   "outputs": [
    {
     "name": "stdout",
     "output_type": "stream",
     "text": [
      "Libraries imported successfully!\n"
     ]
    }
   ],
   "source": [
    "# Import required libraries\n",
    "import pandas as pd\n",
    "import plotly.express as px\n",
    "import plotly.graph_objects as go\n",
    "import numpy as np\n",
    "\n",
    "# Install openpyxl if needed\n",
    "try:\n",
    "    import openpyxl\n",
    "except ImportError:\n",
    "    import subprocess\n",
    "    import sys\n",
    "    subprocess.check_call([sys.executable, \"-m\", \"pip\", \"install\", \"openpyxl\"])\n",
    "    import openpyxl\n",
    "\n",
    "print(\"Libraries imported successfully!\")\n"
   ]
  },
  {
   "cell_type": "code",
   "execution_count": null,
   "metadata": {
    "jupyter": {
     "source_hidden": true
    }
   },
   "outputs": [],
   "source": []
  },
  {
   "cell_type": "code",
   "execution_count": 115,
   "metadata": {
    "jupyter": {
     "source_hidden": true
    }
   },
   "outputs": [
    {
     "name": "stdout",
     "output_type": "stream",
     "text": [
      "Catholic Schools Data:\n",
      "Shape: (470, 8)\n",
      "Columns: ['School', 'Self-Reported Gr. 8 Full Tuition 2024-25 ', 'Total Number of Scholarships 24-25', 'Total K-8 Enrollment 24-25', 'School Address', 'School City', 'State', 'Zip']\n",
      "\n",
      "ZIP-County Crosswalk Data:\n",
      "Shape: (54563, 8)\n",
      "Columns: ['ZIP', 'COUNTY', 'USPS_ZIP_PREF_CITY', 'USPS_ZIP_PREF_STATE', 'RES_RATIO', 'BUS_RATIO', 'OTH_RATIO', 'TOT_RATIO']\n",
      "\n",
      "First few rows of schools data:\n"
     ]
    },
    {
     "data": {
      "text/html": [
       "<div>\n",
       "<style scoped>\n",
       "    .dataframe tbody tr th:only-of-type {\n",
       "        vertical-align: middle;\n",
       "    }\n",
       "\n",
       "    .dataframe tbody tr th {\n",
       "        vertical-align: top;\n",
       "    }\n",
       "\n",
       "    .dataframe thead th {\n",
       "        text-align: right;\n",
       "    }\n",
       "</style>\n",
       "<table border=\"1\" class=\"dataframe\">\n",
       "  <thead>\n",
       "    <tr style=\"text-align: right;\">\n",
       "      <th></th>\n",
       "      <th>School</th>\n",
       "      <th>Self-Reported Gr. 8 Full Tuition 2024-25</th>\n",
       "      <th>Total Number of Scholarships 24-25</th>\n",
       "      <th>Total K-8 Enrollment 24-25</th>\n",
       "      <th>School Address</th>\n",
       "      <th>School City</th>\n",
       "      <th>State</th>\n",
       "      <th>Zip</th>\n",
       "    </tr>\n",
       "  </thead>\n",
       "  <tbody>\n",
       "    <tr>\n",
       "      <th>0</th>\n",
       "      <td>All Saints Catholic School</td>\n",
       "      <td>$6,100.00</td>\n",
       "      <td>18.0</td>\n",
       "      <td>411</td>\n",
       "      <td>19795 Holyoke Ave.</td>\n",
       "      <td>Lakeville</td>\n",
       "      <td>MN</td>\n",
       "      <td>55044-8816</td>\n",
       "    </tr>\n",
       "    <tr>\n",
       "      <th>1</th>\n",
       "      <td>Annunciation School</td>\n",
       "      <td>$6,800.00</td>\n",
       "      <td>17.0</td>\n",
       "      <td>340</td>\n",
       "      <td>525 - 54th St. W.</td>\n",
       "      <td>Minneapolis</td>\n",
       "      <td>MN</td>\n",
       "      <td>55419-1818</td>\n",
       "    </tr>\n",
       "    <tr>\n",
       "      <th>2</th>\n",
       "      <td>Ascension School</td>\n",
       "      <td>$1,400.00</td>\n",
       "      <td>72.0</td>\n",
       "      <td>272</td>\n",
       "      <td>1726 Dupont Ave. N.</td>\n",
       "      <td>Minneapolis</td>\n",
       "      <td>MN</td>\n",
       "      <td>55411-3219</td>\n",
       "    </tr>\n",
       "    <tr>\n",
       "      <th>3</th>\n",
       "      <td>Ave Maria Academy (Maple Grove, MN)</td>\n",
       "      <td>$9,800.00</td>\n",
       "      <td>13.0</td>\n",
       "      <td>161</td>\n",
       "      <td>7000 Jewel Lane N.</td>\n",
       "      <td>Maple Grove</td>\n",
       "      <td>MN</td>\n",
       "      <td>55311-2504</td>\n",
       "    </tr>\n",
       "    <tr>\n",
       "      <th>4</th>\n",
       "      <td>Benilde-St. Margaret's Schools</td>\n",
       "      <td>$15,625.00</td>\n",
       "      <td>8.0</td>\n",
       "      <td>194 (7-8)</td>\n",
       "      <td>2501 MN-100</td>\n",
       "      <td>St Louis Park</td>\n",
       "      <td>MN</td>\n",
       "      <td>55416</td>\n",
       "    </tr>\n",
       "  </tbody>\n",
       "</table>\n",
       "</div>"
      ],
      "text/plain": [
       "                                School  \\\n",
       "0           All Saints Catholic School   \n",
       "1                  Annunciation School   \n",
       "2                     Ascension School   \n",
       "3  Ave Maria Academy (Maple Grove, MN)   \n",
       "4       Benilde-St. Margaret's Schools   \n",
       "\n",
       "  Self-Reported Gr. 8 Full Tuition 2024-25   \\\n",
       "0                                 $6,100.00   \n",
       "1                                 $6,800.00   \n",
       "2                                 $1,400.00   \n",
       "3                                 $9,800.00   \n",
       "4                                $15,625.00   \n",
       "\n",
       "   Total Number of Scholarships 24-25 Total K-8 Enrollment 24-25  \\\n",
       "0                                18.0                        411   \n",
       "1                                17.0                        340   \n",
       "2                                72.0                        272   \n",
       "3                                13.0                        161   \n",
       "4                                 8.0                  194 (7-8)   \n",
       "\n",
       "        School Address    School City State         Zip  \n",
       "0   19795 Holyoke Ave.      Lakeville    MN  55044-8816  \n",
       "1    525 - 54th St. W.    Minneapolis    MN  55419-1818  \n",
       "2  1726 Dupont Ave. N.    Minneapolis    MN  55411-3219  \n",
       "3   7000 Jewel Lane N.    Maple Grove    MN  55311-2504  \n",
       "4          2501 MN-100  St Louis Park    MN       55416  "
      ]
     },
     "execution_count": 115,
     "metadata": {},
     "output_type": "execute_result"
    }
   ],
   "source": [
    "# Load all data files\n",
    "# 1. Load the Catholic schools data\n",
    "df = pd.read_csv('data/HeatMapCSV.csv')\n",
    "\n",
    "# 2. Load the ZIP-County crosswalk data\n",
    "zip_county_df = pd.read_excel('data/ZIP_COUNTY_032025.xlsx')\n",
    "\n",
    "print(\"Catholic Schools Data:\")\n",
    "print(f\"Shape: {df.shape}\")\n",
    "print(f\"Columns: {df.columns.tolist()}\")\n",
    "\n",
    "print(f\"\\nZIP-County Crosswalk Data:\")\n",
    "print(f\"Shape: {zip_county_df.shape}\")\n",
    "print(f\"Columns: {zip_county_df.columns.tolist()}\")\n",
    "\n",
    "print(\"\\nFirst few rows of schools data:\")\n",
    "df.head()\n"
   ]
  },
  {
   "cell_type": "code",
   "execution_count": 116,
   "metadata": {
    "jupyter": {
     "source_hidden": true
    }
   },
   "outputs": [],
   "source": [
    "# Clean and process the data\n",
    "# Remove empty rows\n",
    "df_clean = df.dropna(subset=['School', 'Zip']).copy()\n",
    "\n",
    "# Extract 5-digit ZIP codes from ZIP+4 format (e.g., '55044-8816' -> '55044')\n",
    "df_clean['zip_code'] = df_clean['Zip'].str[:5]\n",
    "\n",
    "# Clean the tuition column (remove $ and commas)\n",
    "df_clean['Tuition_Clean'] = df_clean['Self-Reported Gr. 8 Full Tuition 2024-25 '].str.replace('$', '').str.replace(',', '').astype(float)\n",
    "\n",
    "# Clean scholarships column\n",
    "df_clean['Scholarships'] = df_clean['Total Number of Scholarships 24-25']\n",
    "\n",
    "# Parse enrollment (some have grade ranges in parentheses)\n",
    "df_clean['Enrollment_Clean'] = df_clean['Total K-8 Enrollment 24-25'].astype(str).str.extract(r'(\\d+)').astype(float)\n",
    "\n",
    "# Process ZIP-County mapping\n",
    "mn_zip_county = zip_county_df[zip_county_df['USPS_ZIP_PREF_STATE'] == 'MN'].copy()\n",
    "mn_zip_county_best = mn_zip_county.loc[mn_zip_county.groupby('ZIP')['RES_RATIO'].idxmax()]\n",
    "\n",
    "# Create mapping ensuring both are strings with leading zeros preserved\n",
    "zip_to_county_map = dict(zip(mn_zip_county_best['ZIP'].astype(str).str.zfill(5), mn_zip_county_best['COUNTY']))\n",
    "\n",
    "# Apply county mapping to school data\n",
    "df_clean['county_fips'] = df_clean['zip_code'].map(zip_to_county_map)\n"
   ]
  },
  {
   "cell_type": "code",
   "execution_count": 117,
   "metadata": {
    "jupyter": {
     "source_hidden": true
    }
   },
   "outputs": [
    {
     "data": {
      "application/vnd.plotly.v1+json": {
       "config": {
        "plotlyServerURL": "https://plot.ly"
       },
       "data": [
        {
         "bingroup": "x",
         "hovertemplate": "Number of Scholarships=%{x}<br>count=%{y}<extra></extra>",
         "legendgroup": "",
         "marker": {
          "color": "#636efa",
          "pattern": {
           "shape": ""
          }
         },
         "name": "",
         "nbinsx": 20,
         "orientation": "v",
         "showlegend": false,
         "type": "histogram",
         "x": {
          "bdata": "AAAAAAAAMkAAAAAAAAAxQAAAAAAAAFJAAAAAAAAAKkAAAAAAAAAgQAAAAAAAADZAAAAAAABAWEAAAAAAAAAUQAAAAAAAwFBAAAAAAAAAR0AAAAAAAABEQAAAAAAAAChAAAAAAAAAMkAAAAAAAAAiQAAAAAAAAEJAAAAAAAAAJEAAAAAAAAAoQAAAAAAAADFAAAAAAAAAKEAAAAAAAABBQAAAAAAAADJAAAAAAACAVkAAAAAAAAAcQAAAAAAAAD5AAAAAAAAAHEAAAAAAAABFQAAAAAAAADRAAAAAAAAAO0AAAAAAAAAYQAAAAAAAADxAAAAAAAAAN0AAAAAAAAAcQAAAAAAAAEpAAAAAAAAAOkAAAAAAAIBmQAAAAAAAgERAAAAAAACATUAAAAAAAAA4QAAAAAAAABxAAAAAAAAAGEAAAAAAAAA9QAAAAAAAAD5AAAAAAAAANkAAAAAAAAAuQAAAAAAAAD1AAAAAAAAASEAAAAAAAAAsQAAAAAAAQFhAAAAAAACAVEAAAAAAAABEQAAAAAAAACJAAAAAAAAAP0AAAAAAAAAoQAAAAAAAADhAAAAAAAAAKEAAAAAAAAA3QAAAAAAAADdAAAAAAACASEAAAAAAAAA6QAAAAAAAADVAAAAAAACAQEAAAAAAAAAsQAAAAAAAADNAAAAAAAAAS0AAAAAAAABHQAAAAAAAgEhAAAAAAAAAQEAAAAAAAABPQAAAAAAAADFAAAAAAAAAMkAAAAAAAAAoQAAAAAAAABhAAAAAAAAAPEAAAAAAAAA8QAAAAAAAADlAAAAAAAAANEAAAAAAAABOQAAAAAAAADlAAAAAAAAALEAAAAAAAAAxQA==",
          "dtype": "f8"
         },
         "xaxis": "x",
         "yaxis": "y"
        }
       ],
       "layout": {
        "barmode": "relative",
        "legend": {
         "tracegroupgap": 0
        },
        "template": {
         "data": {
          "bar": [
           {
            "error_x": {
             "color": "#2a3f5f"
            },
            "error_y": {
             "color": "#2a3f5f"
            },
            "marker": {
             "line": {
              "color": "#E5ECF6",
              "width": 0.5
             },
             "pattern": {
              "fillmode": "overlay",
              "size": 10,
              "solidity": 0.2
             }
            },
            "type": "bar"
           }
          ],
          "barpolar": [
           {
            "marker": {
             "line": {
              "color": "#E5ECF6",
              "width": 0.5
             },
             "pattern": {
              "fillmode": "overlay",
              "size": 10,
              "solidity": 0.2
             }
            },
            "type": "barpolar"
           }
          ],
          "carpet": [
           {
            "aaxis": {
             "endlinecolor": "#2a3f5f",
             "gridcolor": "white",
             "linecolor": "white",
             "minorgridcolor": "white",
             "startlinecolor": "#2a3f5f"
            },
            "baxis": {
             "endlinecolor": "#2a3f5f",
             "gridcolor": "white",
             "linecolor": "white",
             "minorgridcolor": "white",
             "startlinecolor": "#2a3f5f"
            },
            "type": "carpet"
           }
          ],
          "choropleth": [
           {
            "colorbar": {
             "outlinewidth": 0,
             "ticks": ""
            },
            "type": "choropleth"
           }
          ],
          "contour": [
           {
            "colorbar": {
             "outlinewidth": 0,
             "ticks": ""
            },
            "colorscale": [
             [
              0,
              "#0d0887"
             ],
             [
              0.1111111111111111,
              "#46039f"
             ],
             [
              0.2222222222222222,
              "#7201a8"
             ],
             [
              0.3333333333333333,
              "#9c179e"
             ],
             [
              0.4444444444444444,
              "#bd3786"
             ],
             [
              0.5555555555555556,
              "#d8576b"
             ],
             [
              0.6666666666666666,
              "#ed7953"
             ],
             [
              0.7777777777777778,
              "#fb9f3a"
             ],
             [
              0.8888888888888888,
              "#fdca26"
             ],
             [
              1,
              "#f0f921"
             ]
            ],
            "type": "contour"
           }
          ],
          "contourcarpet": [
           {
            "colorbar": {
             "outlinewidth": 0,
             "ticks": ""
            },
            "type": "contourcarpet"
           }
          ],
          "heatmap": [
           {
            "colorbar": {
             "outlinewidth": 0,
             "ticks": ""
            },
            "colorscale": [
             [
              0,
              "#0d0887"
             ],
             [
              0.1111111111111111,
              "#46039f"
             ],
             [
              0.2222222222222222,
              "#7201a8"
             ],
             [
              0.3333333333333333,
              "#9c179e"
             ],
             [
              0.4444444444444444,
              "#bd3786"
             ],
             [
              0.5555555555555556,
              "#d8576b"
             ],
             [
              0.6666666666666666,
              "#ed7953"
             ],
             [
              0.7777777777777778,
              "#fb9f3a"
             ],
             [
              0.8888888888888888,
              "#fdca26"
             ],
             [
              1,
              "#f0f921"
             ]
            ],
            "type": "heatmap"
           }
          ],
          "histogram": [
           {
            "marker": {
             "pattern": {
              "fillmode": "overlay",
              "size": 10,
              "solidity": 0.2
             }
            },
            "type": "histogram"
           }
          ],
          "histogram2d": [
           {
            "colorbar": {
             "outlinewidth": 0,
             "ticks": ""
            },
            "colorscale": [
             [
              0,
              "#0d0887"
             ],
             [
              0.1111111111111111,
              "#46039f"
             ],
             [
              0.2222222222222222,
              "#7201a8"
             ],
             [
              0.3333333333333333,
              "#9c179e"
             ],
             [
              0.4444444444444444,
              "#bd3786"
             ],
             [
              0.5555555555555556,
              "#d8576b"
             ],
             [
              0.6666666666666666,
              "#ed7953"
             ],
             [
              0.7777777777777778,
              "#fb9f3a"
             ],
             [
              0.8888888888888888,
              "#fdca26"
             ],
             [
              1,
              "#f0f921"
             ]
            ],
            "type": "histogram2d"
           }
          ],
          "histogram2dcontour": [
           {
            "colorbar": {
             "outlinewidth": 0,
             "ticks": ""
            },
            "colorscale": [
             [
              0,
              "#0d0887"
             ],
             [
              0.1111111111111111,
              "#46039f"
             ],
             [
              0.2222222222222222,
              "#7201a8"
             ],
             [
              0.3333333333333333,
              "#9c179e"
             ],
             [
              0.4444444444444444,
              "#bd3786"
             ],
             [
              0.5555555555555556,
              "#d8576b"
             ],
             [
              0.6666666666666666,
              "#ed7953"
             ],
             [
              0.7777777777777778,
              "#fb9f3a"
             ],
             [
              0.8888888888888888,
              "#fdca26"
             ],
             [
              1,
              "#f0f921"
             ]
            ],
            "type": "histogram2dcontour"
           }
          ],
          "mesh3d": [
           {
            "colorbar": {
             "outlinewidth": 0,
             "ticks": ""
            },
            "type": "mesh3d"
           }
          ],
          "parcoords": [
           {
            "line": {
             "colorbar": {
              "outlinewidth": 0,
              "ticks": ""
             }
            },
            "type": "parcoords"
           }
          ],
          "pie": [
           {
            "automargin": true,
            "type": "pie"
           }
          ],
          "scatter": [
           {
            "fillpattern": {
             "fillmode": "overlay",
             "size": 10,
             "solidity": 0.2
            },
            "type": "scatter"
           }
          ],
          "scatter3d": [
           {
            "line": {
             "colorbar": {
              "outlinewidth": 0,
              "ticks": ""
             }
            },
            "marker": {
             "colorbar": {
              "outlinewidth": 0,
              "ticks": ""
             }
            },
            "type": "scatter3d"
           }
          ],
          "scattercarpet": [
           {
            "marker": {
             "colorbar": {
              "outlinewidth": 0,
              "ticks": ""
             }
            },
            "type": "scattercarpet"
           }
          ],
          "scattergeo": [
           {
            "marker": {
             "colorbar": {
              "outlinewidth": 0,
              "ticks": ""
             }
            },
            "type": "scattergeo"
           }
          ],
          "scattergl": [
           {
            "marker": {
             "colorbar": {
              "outlinewidth": 0,
              "ticks": ""
             }
            },
            "type": "scattergl"
           }
          ],
          "scattermap": [
           {
            "marker": {
             "colorbar": {
              "outlinewidth": 0,
              "ticks": ""
             }
            },
            "type": "scattermap"
           }
          ],
          "scattermapbox": [
           {
            "marker": {
             "colorbar": {
              "outlinewidth": 0,
              "ticks": ""
             }
            },
            "type": "scattermapbox"
           }
          ],
          "scatterpolar": [
           {
            "marker": {
             "colorbar": {
              "outlinewidth": 0,
              "ticks": ""
             }
            },
            "type": "scatterpolar"
           }
          ],
          "scatterpolargl": [
           {
            "marker": {
             "colorbar": {
              "outlinewidth": 0,
              "ticks": ""
             }
            },
            "type": "scatterpolargl"
           }
          ],
          "scatterternary": [
           {
            "marker": {
             "colorbar": {
              "outlinewidth": 0,
              "ticks": ""
             }
            },
            "type": "scatterternary"
           }
          ],
          "surface": [
           {
            "colorbar": {
             "outlinewidth": 0,
             "ticks": ""
            },
            "colorscale": [
             [
              0,
              "#0d0887"
             ],
             [
              0.1111111111111111,
              "#46039f"
             ],
             [
              0.2222222222222222,
              "#7201a8"
             ],
             [
              0.3333333333333333,
              "#9c179e"
             ],
             [
              0.4444444444444444,
              "#bd3786"
             ],
             [
              0.5555555555555556,
              "#d8576b"
             ],
             [
              0.6666666666666666,
              "#ed7953"
             ],
             [
              0.7777777777777778,
              "#fb9f3a"
             ],
             [
              0.8888888888888888,
              "#fdca26"
             ],
             [
              1,
              "#f0f921"
             ]
            ],
            "type": "surface"
           }
          ],
          "table": [
           {
            "cells": {
             "fill": {
              "color": "#EBF0F8"
             },
             "line": {
              "color": "white"
             }
            },
            "header": {
             "fill": {
              "color": "#C8D4E3"
             },
             "line": {
              "color": "white"
             }
            },
            "type": "table"
           }
          ]
         },
         "layout": {
          "annotationdefaults": {
           "arrowcolor": "#2a3f5f",
           "arrowhead": 0,
           "arrowwidth": 1
          },
          "autotypenumbers": "strict",
          "coloraxis": {
           "colorbar": {
            "outlinewidth": 0,
            "ticks": ""
           }
          },
          "colorscale": {
           "diverging": [
            [
             0,
             "#8e0152"
            ],
            [
             0.1,
             "#c51b7d"
            ],
            [
             0.2,
             "#de77ae"
            ],
            [
             0.3,
             "#f1b6da"
            ],
            [
             0.4,
             "#fde0ef"
            ],
            [
             0.5,
             "#f7f7f7"
            ],
            [
             0.6,
             "#e6f5d0"
            ],
            [
             0.7,
             "#b8e186"
            ],
            [
             0.8,
             "#7fbc41"
            ],
            [
             0.9,
             "#4d9221"
            ],
            [
             1,
             "#276419"
            ]
           ],
           "sequential": [
            [
             0,
             "#0d0887"
            ],
            [
             0.1111111111111111,
             "#46039f"
            ],
            [
             0.2222222222222222,
             "#7201a8"
            ],
            [
             0.3333333333333333,
             "#9c179e"
            ],
            [
             0.4444444444444444,
             "#bd3786"
            ],
            [
             0.5555555555555556,
             "#d8576b"
            ],
            [
             0.6666666666666666,
             "#ed7953"
            ],
            [
             0.7777777777777778,
             "#fb9f3a"
            ],
            [
             0.8888888888888888,
             "#fdca26"
            ],
            [
             1,
             "#f0f921"
            ]
           ],
           "sequentialminus": [
            [
             0,
             "#0d0887"
            ],
            [
             0.1111111111111111,
             "#46039f"
            ],
            [
             0.2222222222222222,
             "#7201a8"
            ],
            [
             0.3333333333333333,
             "#9c179e"
            ],
            [
             0.4444444444444444,
             "#bd3786"
            ],
            [
             0.5555555555555556,
             "#d8576b"
            ],
            [
             0.6666666666666666,
             "#ed7953"
            ],
            [
             0.7777777777777778,
             "#fb9f3a"
            ],
            [
             0.8888888888888888,
             "#fdca26"
            ],
            [
             1,
             "#f0f921"
            ]
           ]
          },
          "colorway": [
           "#636efa",
           "#EF553B",
           "#00cc96",
           "#ab63fa",
           "#FFA15A",
           "#19d3f3",
           "#FF6692",
           "#B6E880",
           "#FF97FF",
           "#FECB52"
          ],
          "font": {
           "color": "#2a3f5f"
          },
          "geo": {
           "bgcolor": "white",
           "lakecolor": "white",
           "landcolor": "#E5ECF6",
           "showlakes": true,
           "showland": true,
           "subunitcolor": "white"
          },
          "hoverlabel": {
           "align": "left"
          },
          "hovermode": "closest",
          "mapbox": {
           "style": "light"
          },
          "paper_bgcolor": "white",
          "plot_bgcolor": "#E5ECF6",
          "polar": {
           "angularaxis": {
            "gridcolor": "white",
            "linecolor": "white",
            "ticks": ""
           },
           "bgcolor": "#E5ECF6",
           "radialaxis": {
            "gridcolor": "white",
            "linecolor": "white",
            "ticks": ""
           }
          },
          "scene": {
           "xaxis": {
            "backgroundcolor": "#E5ECF6",
            "gridcolor": "white",
            "gridwidth": 2,
            "linecolor": "white",
            "showbackground": true,
            "ticks": "",
            "zerolinecolor": "white"
           },
           "yaxis": {
            "backgroundcolor": "#E5ECF6",
            "gridcolor": "white",
            "gridwidth": 2,
            "linecolor": "white",
            "showbackground": true,
            "ticks": "",
            "zerolinecolor": "white"
           },
           "zaxis": {
            "backgroundcolor": "#E5ECF6",
            "gridcolor": "white",
            "gridwidth": 2,
            "linecolor": "white",
            "showbackground": true,
            "ticks": "",
            "zerolinecolor": "white"
           }
          },
          "shapedefaults": {
           "line": {
            "color": "#2a3f5f"
           }
          },
          "ternary": {
           "aaxis": {
            "gridcolor": "white",
            "linecolor": "white",
            "ticks": ""
           },
           "baxis": {
            "gridcolor": "white",
            "linecolor": "white",
            "ticks": ""
           },
           "bgcolor": "#E5ECF6",
           "caxis": {
            "gridcolor": "white",
            "linecolor": "white",
            "ticks": ""
           }
          },
          "title": {
           "x": 0.05
          },
          "xaxis": {
           "automargin": true,
           "gridcolor": "white",
           "linecolor": "white",
           "ticks": "",
           "title": {
            "standoff": 15
           },
           "zerolinecolor": "white",
           "zerolinewidth": 2
          },
          "yaxis": {
           "automargin": true,
           "gridcolor": "white",
           "linecolor": "white",
           "ticks": "",
           "title": {
            "standoff": 15
           },
           "zerolinecolor": "white",
           "zerolinewidth": 2
          }
         }
        },
        "title": {
         "text": "Distribution of Scholarships per School"
        },
        "xaxis": {
         "anchor": "y",
         "domain": [
          0,
          1
         ],
         "title": {
          "text": "Number of Scholarships"
         }
        },
        "yaxis": {
         "anchor": "x",
         "domain": [
          0,
          1
         ],
         "title": {
          "text": "count"
         }
        }
       }
      },
      "image/png": "[encoded data removed]"
     },
     "metadata": {},
     "output_type": "display_data"
    },
    {
     "data": {
      "application/vnd.plotly.v1+json": {
       "config": {
        "plotlyServerURL": "https://plot.ly"
       },
       "data": [
        {
         "hovertemplate": "ZIP Code=%{x}<br>Total Scholarships=%{y}<extra></extra>",
         "legendgroup": "",
         "marker": {
          "color": "#636efa",
          "pattern": {
           "shape": ""
          }
         },
         "name": "",
         "orientation": "v",
         "showlegend": false,
         "textposition": "auto",
         "type": "bar",
         "x": [
          "55407",
          "55117",
          "55118",
          "55109",
          "55423",
          "55421",
          "55413",
          "55411",
          "55116",
          "55021",
          "55428",
          "55379",
          "55103",
          "55106",
          "55105"
         ],
         "xaxis": "x",
         "y": {
          "bdata": "AAAAAACAZkAAAAAAAOBkQAAAAAAAAF1AAAAAAADAW0AAAAAAAEBYQAAAAAAAgFZAAAAAAACAVEAAAAAAAABSQAAAAAAAgFFAAAAAAAAAUUAAAAAAAABPQAAAAAAAAE5AAAAAAACATUAAAAAAAABLQAAAAAAAAEhA",
          "dtype": "f8"
         },
         "yaxis": "y"
        }
       ],
       "layout": {
        "barmode": "relative",
        "legend": {
         "tracegroupgap": 0
        },
        "template": {
         "data": {
          "bar": [
           {
            "error_x": {
             "color": "#2a3f5f"
            },
            "error_y": {
             "color": "#2a3f5f"
            },
            "marker": {
             "line": {
              "color": "#E5ECF6",
              "width": 0.5
             },
             "pattern": {
              "fillmode": "overlay",
              "size": 10,
              "solidity": 0.2
             }
            },
            "type": "bar"
           }
          ],
          "barpolar": [
           {
            "marker": {
             "line": {
              "color": "#E5ECF6",
              "width": 0.5
             },
             "pattern": {
              "fillmode": "overlay",
              "size": 10,
              "solidity": 0.2
             }
            },
            "type": "barpolar"
           }
          ],
          "carpet": [
           {
            "aaxis": {
             "endlinecolor": "#2a3f5f",
             "gridcolor": "white",
             "linecolor": "white",
             "minorgridcolor": "white",
             "startlinecolor": "#2a3f5f"
            },
            "baxis": {
             "endlinecolor": "#2a3f5f",
             "gridcolor": "white",
             "linecolor": "white",
             "minorgridcolor": "white",
             "startlinecolor": "#2a3f5f"
            },
            "type": "carpet"
           }
          ],
          "choropleth": [
           {
            "colorbar": {
             "outlinewidth": 0,
             "ticks": ""
            },
            "type": "choropleth"
           }
          ],
          "contour": [
           {
            "colorbar": {
             "outlinewidth": 0,
             "ticks": ""
            },
            "colorscale": [
             [
              0,
              "#0d0887"
             ],
             [
              0.1111111111111111,
              "#46039f"
             ],
             [
              0.2222222222222222,
              "#7201a8"
             ],
             [
              0.3333333333333333,
              "#9c179e"
             ],
             [
              0.4444444444444444,
              "#bd3786"
             ],
             [
              0.5555555555555556,
              "#d8576b"
             ],
             [
              0.6666666666666666,
              "#ed7953"
             ],
             [
              0.7777777777777778,
              "#fb9f3a"
             ],
             [
              0.8888888888888888,
              "#fdca26"
             ],
             [
              1,
              "#f0f921"
             ]
            ],
            "type": "contour"
           }
          ],
          "contourcarpet": [
           {
            "colorbar": {
             "outlinewidth": 0,
             "ticks": ""
            },
            "type": "contourcarpet"
           }
          ],
          "heatmap": [
           {
            "colorbar": {
             "outlinewidth": 0,
             "ticks": ""
            },
            "colorscale": [
             [
              0,
              "#0d0887"
             ],
             [
              0.1111111111111111,
              "#46039f"
             ],
             [
              0.2222222222222222,
              "#7201a8"
             ],
             [
              0.3333333333333333,
              "#9c179e"
             ],
             [
              0.4444444444444444,
              "#bd3786"
             ],
             [
              0.5555555555555556,
              "#d8576b"
             ],
             [
              0.6666666666666666,
              "#ed7953"
             ],
             [
              0.7777777777777778,
              "#fb9f3a"
             ],
             [
              0.8888888888888888,
              "#fdca26"
             ],
             [
              1,
              "#f0f921"
             ]
            ],
            "type": "heatmap"
           }
          ],
          "histogram": [
           {
            "marker": {
             "pattern": {
              "fillmode": "overlay",
              "size": 10,
              "solidity": 0.2
             }
            },
            "type": "histogram"
           }
          ],
          "histogram2d": [
           {
            "colorbar": {
             "outlinewidth": 0,
             "ticks": ""
            },
            "colorscale": [
             [
              0,
              "#0d0887"
             ],
             [
              0.1111111111111111,
              "#46039f"
             ],
             [
              0.2222222222222222,
              "#7201a8"
             ],
             [
              0.3333333333333333,
              "#9c179e"
             ],
             [
              0.4444444444444444,
              "#bd3786"
             ],
             [
              0.5555555555555556,
              "#d8576b"
             ],
             [
              0.6666666666666666,
              "#ed7953"
             ],
             [
              0.7777777777777778,
              "#fb9f3a"
             ],
             [
              0.8888888888888888,
              "#fdca26"
             ],
             [
              1,
              "#f0f921"
             ]
            ],
            "type": "histogram2d"
           }
          ],
          "histogram2dcontour": [
           {
            "colorbar": {
             "outlinewidth": 0,
             "ticks": ""
            },
            "colorscale": [
             [
              0,
              "#0d0887"
             ],
             [
              0.1111111111111111,
              "#46039f"
             ],
             [
              0.2222222222222222,
              "#7201a8"
             ],
             [
              0.3333333333333333,
              "#9c179e"
             ],
             [
              0.4444444444444444,
              "#bd3786"
             ],
             [
              0.5555555555555556,
              "#d8576b"
             ],
             [
              0.6666666666666666,
              "#ed7953"
             ],
             [
              0.7777777777777778,
              "#fb9f3a"
             ],
             [
              0.8888888888888888,
              "#fdca26"
             ],
             [
              1,
              "#f0f921"
             ]
            ],
            "type": "histogram2dcontour"
           }
          ],
          "mesh3d": [
           {
            "colorbar": {
             "outlinewidth": 0,
             "ticks": ""
            },
            "type": "mesh3d"
           }
          ],
          "parcoords": [
           {
            "line": {
             "colorbar": {
              "outlinewidth": 0,
              "ticks": ""
             }
            },
            "type": "parcoords"
           }
          ],
          "pie": [
           {
            "automargin": true,
            "type": "pie"
           }
          ],
          "scatter": [
           {
            "fillpattern": {
             "fillmode": "overlay",
             "size": 10,
             "solidity": 0.2
            },
            "type": "scatter"
           }
          ],
          "scatter3d": [
           {
            "line": {
             "colorbar": {
              "outlinewidth": 0,
              "ticks": ""
             }
            },
            "marker": {
             "colorbar": {
              "outlinewidth": 0,
              "ticks": ""
             }
            },
            "type": "scatter3d"
           }
          ],
          "scattercarpet": [
           {
            "marker": {
             "colorbar": {
              "outlinewidth": 0,
              "ticks": ""
             }
            },
            "type": "scattercarpet"
           }
          ],
          "scattergeo": [
           {
            "marker": {
             "colorbar": {
              "outlinewidth": 0,
              "ticks": ""
             }
            },
            "type": "scattergeo"
           }
          ],
          "scattergl": [
           {
            "marker": {
             "colorbar": {
              "outlinewidth": 0,
              "ticks": ""
             }
            },
            "type": "scattergl"
           }
          ],
          "scattermap": [
           {
            "marker": {
             "colorbar": {
              "outlinewidth": 0,
              "ticks": ""
             }
            },
            "type": "scattermap"
           }
          ],
          "scattermapbox": [
           {
            "marker": {
             "colorbar": {
              "outlinewidth": 0,
              "ticks": ""
             }
            },
            "type": "scattermapbox"
           }
          ],
          "scatterpolar": [
           {
            "marker": {
             "colorbar": {
              "outlinewidth": 0,
              "ticks": ""
             }
            },
            "type": "scatterpolar"
           }
          ],
          "scatterpolargl": [
           {
            "marker": {
             "colorbar": {
              "outlinewidth": 0,
              "ticks": ""
             }
            },
            "type": "scatterpolargl"
           }
          ],
          "scatterternary": [
           {
            "marker": {
             "colorbar": {
              "outlinewidth": 0,
              "ticks": ""
             }
            },
            "type": "scatterternary"
           }
          ],
          "surface": [
           {
            "colorbar": {
             "outlinewidth": 0,
             "ticks": ""
            },
            "colorscale": [
             [
              0,
              "#0d0887"
             ],
             [
              0.1111111111111111,
              "#46039f"
             ],
             [
              0.2222222222222222,
              "#7201a8"
             ],
             [
              0.3333333333333333,
              "#9c179e"
             ],
             [
              0.4444444444444444,
              "#bd3786"
             ],
             [
              0.5555555555555556,
              "#d8576b"
             ],
             [
              0.6666666666666666,
              "#ed7953"
             ],
             [
              0.7777777777777778,
              "#fb9f3a"
             ],
             [
              0.8888888888888888,
              "#fdca26"
             ],
             [
              1,
              "#f0f921"
             ]
            ],
            "type": "surface"
           }
          ],
          "table": [
           {
            "cells": {
             "fill": {
              "color": "#EBF0F8"
             },
             "line": {
              "color": "white"
             }
            },
            "header": {
             "fill": {
              "color": "#C8D4E3"
             },
             "line": {
              "color": "white"
             }
            },
            "type": "table"
           }
          ]
         },
         "layout": {
          "annotationdefaults": {
           "arrowcolor": "#2a3f5f",
           "arrowhead": 0,
           "arrowwidth": 1
          },
          "autotypenumbers": "strict",
          "coloraxis": {
           "colorbar": {
            "outlinewidth": 0,
            "ticks": ""
           }
          },
          "colorscale": {
           "diverging": [
            [
             0,
             "#8e0152"
            ],
            [
             0.1,
             "#c51b7d"
            ],
            [
             0.2,
             "#de77ae"
            ],
            [
             0.3,
             "#f1b6da"
            ],
            [
             0.4,
             "#fde0ef"
            ],
            [
             0.5,
             "#f7f7f7"
            ],
            [
             0.6,
             "#e6f5d0"
            ],
            [
             0.7,
             "#b8e186"
            ],
            [
             0.8,
             "#7fbc41"
            ],
            [
             0.9,
             "#4d9221"
            ],
            [
             1,
             "#276419"
            ]
           ],
           "sequential": [
            [
             0,
             "#0d0887"
            ],
            [
             0.1111111111111111,
             "#46039f"
            ],
            [
             0.2222222222222222,
             "#7201a8"
            ],
            [
             0.3333333333333333,
             "#9c179e"
            ],
            [
             0.4444444444444444,
             "#bd3786"
            ],
            [
             0.5555555555555556,
             "#d8576b"
            ],
            [
             0.6666666666666666,
             "#ed7953"
            ],
            [
             0.7777777777777778,
             "#fb9f3a"
            ],
            [
             0.8888888888888888,
             "#fdca26"
            ],
            [
             1,
             "#f0f921"
            ]
           ],
           "sequentialminus": [
            [
             0,
             "#0d0887"
            ],
            [
             0.1111111111111111,
             "#46039f"
            ],
            [
             0.2222222222222222,
             "#7201a8"
            ],
            [
             0.3333333333333333,
             "#9c179e"
            ],
            [
             0.4444444444444444,
             "#bd3786"
            ],
            [
             0.5555555555555556,
             "#d8576b"
            ],
            [
             0.6666666666666666,
             "#ed7953"
            ],
            [
             0.7777777777777778,
             "#fb9f3a"
            ],
            [
             0.8888888888888888,
             "#fdca26"
            ],
            [
             1,
             "#f0f921"
            ]
           ]
          },
          "colorway": [
           "#636efa",
           "#EF553B",
           "#00cc96",
           "#ab63fa",
           "#FFA15A",
           "#19d3f3",
           "#FF6692",
           "#B6E880",
           "#FF97FF",
           "#FECB52"
          ],
          "font": {
           "color": "#2a3f5f"
          },
          "geo": {
           "bgcolor": "white",
           "lakecolor": "white",
           "landcolor": "#E5ECF6",
           "showlakes": true,
           "showland": true,
           "subunitcolor": "white"
          },
          "hoverlabel": {
           "align": "left"
          },
          "hovermode": "closest",
          "mapbox": {
           "style": "light"
          },
          "paper_bgcolor": "white",
          "plot_bgcolor": "#E5ECF6",
          "polar": {
           "angularaxis": {
            "gridcolor": "white",
            "linecolor": "white",
            "ticks": ""
           },
           "bgcolor": "#E5ECF6",
           "radialaxis": {
            "gridcolor": "white",
            "linecolor": "white",
            "ticks": ""
           }
          },
          "scene": {
           "xaxis": {
            "backgroundcolor": "#E5ECF6",
            "gridcolor": "white",
            "gridwidth": 2,
            "linecolor": "white",
            "showbackground": true,
            "ticks": "",
            "zerolinecolor": "white"
           },
           "yaxis": {
            "backgroundcolor": "#E5ECF6",
            "gridcolor": "white",
            "gridwidth": 2,
            "linecolor": "white",
            "showbackground": true,
            "ticks": "",
            "zerolinecolor": "white"
           },
           "zaxis": {
            "backgroundcolor": "#E5ECF6",
            "gridcolor": "white",
            "gridwidth": 2,
            "linecolor": "white",
            "showbackground": true,
            "ticks": "",
            "zerolinecolor": "white"
           }
          },
          "shapedefaults": {
           "line": {
            "color": "#2a3f5f"
           }
          },
          "ternary": {
           "aaxis": {
            "gridcolor": "white",
            "linecolor": "white",
            "ticks": ""
           },
           "baxis": {
            "gridcolor": "white",
            "linecolor": "white",
            "ticks": ""
           },
           "bgcolor": "#E5ECF6",
           "caxis": {
            "gridcolor": "white",
            "linecolor": "white",
            "ticks": ""
           }
          },
          "title": {
           "x": 0.05
          },
          "xaxis": {
           "automargin": true,
           "gridcolor": "white",
           "linecolor": "white",
           "ticks": "",
           "title": {
            "standoff": 15
           },
           "zerolinecolor": "white",
           "zerolinewidth": 2
          },
          "yaxis": {
           "automargin": true,
           "gridcolor": "white",
           "linecolor": "white",
           "ticks": "",
           "title": {
            "standoff": 15
           },
           "zerolinecolor": "white",
           "zerolinewidth": 2
          }
         }
        },
        "title": {
         "text": "Total Scholarships by ZIP Code (Top 15)"
        },
        "xaxis": {
         "anchor": "y",
         "domain": [
          0,
          1
         ],
         "tickangle": -45,
         "title": {
          "text": "ZIP Code"
         }
        },
        "yaxis": {
         "anchor": "x",
         "domain": [
          0,
          1
         ],
         "title": {
          "text": "Total Scholarships"
         }
        }
       }
      },
      "image/png": "[encoded data removed]"
     },
     "metadata": {},
     "output_type": "display_data"
    },
    {
     "data": {
      "application/vnd.plotly.v1+json": {
       "config": {
        "plotlyServerURL": "https://plot.ly"
       },
       "data": [
        {
         "customdata": {
          "bdata": "AAAAAAAAMkAAAAAAgGn2QAAAAAAAADFAAAAAAIAS+EAAAAAAAABSQAAAAAAAINxAAAAAAAAAKkAAAAAAAO77QAAAAAAAACBAAAAAAICQ/EAAAAAAAAA2QAAAAABA9f9AAAAAAABAWEAAAAAAwAwaQQAAAAAAABRAAAAAAAAX4UAAAAAAAMBQQAAAAADoehBBAAAAAAAAR0AAAAAA4D8CQQAAAAAAAERAAAAAAIAHDkEAAAAAAAAoQAAAAAAAC/NAAAAAAAAAMkAAAAAAAKT/QAAAAAAAACJAAAAAAMCK7kAAAAAAAABCQAAAAAAg/g1BAAAAAAAAJEAAAAAAgH7/QAAAAAAAAChAAAAAAABE5kAAAAAAAAAxQAAAAAAAlfVAAAAAAAAAKEAAAAAAAA7wQAAAAAAAAEFAAAAAANDCB0EAAAAAAAAyQAAAAABAb/RAAAAAAACAVkAAAAAA8MsWQQAAAAAAABxAAAAAAMAY2EAAAAAAAAA+QAAAAACAfv9AAAAAAAAAHEAAAAAAQL3RQAAAAAAAAEVAAAAAACDxC0EAAAAAAAA0QAAAAABA+vpAAAAAAAAAO0AAAAAAKLcBQQAAAAAAABhAAAAAAACh40AAAAAAAAA8QAAAAADgLAFBAAAAAAAAN0AAAAAAwIP7QAAAAAAAABxAAAAAAIDZ1EAAAAAAAABKQAAAAACAkAxBAAAAAAAAOkAAAAAAEPYcQQAAAAAAgGZAAAAAACBTJEEAAAAAAIBEQAAAAADopgtBAAAAAACATUAAAAAAIHITQQAAAAAAADhAAAAAAICaAkEAAAAAAAAcQAAAAADAT9NAAAAAAAAAGEAAAAAAAEnRQAAAAAAAAD1AAAAAAFArAUEAAAAAAAA+QAAAAABgfgJBAAAAAAAANkAAAAAAAMj5QAAAAAAAAC5AAAAAAJAF8EAAAAAAAAA9QAAAAACA5/pAAAAAAAAASEAAAAAAAMgJQQAAAAAAACxAAAAAAKAH8kAAAAAAAEBYQAAAAADADBpBAAAAAACAVEAAAAAAYO7/QAAAAAAAAERAAAAAAIA3BkEAAAAAAAAiQAAAAACgheZAAAAAAAAAP0AAAAAAwOsCQQAAAAAAAChAAAAAAICv60AAAAAAAAA4QAAAAAAAtvxAAAAAAAAAKEAAAAAAAP7gQAAAAAAAADdAAAAAABBO/0AAAAAAAAA3QAAAAADAg/tAAAAAAACASEAAAAAAPBMQQQAAAAAAADpAAAAAABBEAEEAAAAAAAA1QAAAAADAC/ZAAAAAAACAQEAAAAAAIIQAQQAAAAAAACxAAAAAAABo8EAAAAAAAAAzQAAAAADQyfpAAAAAAAAAS0AAAAAAALsHQQAAAAAAAEdAAAAAAAD40UAAAAAAAIBIQAAAAAAwNwtBAAAAAAAAQEAAAAAAAAsDQQAAAAAAAE9AAAAAAECeEkEAAAAAAAAxQAAAAAAA7PNAAAAAAAAAMkAAAAAAAMz1QAAAAAAAAChAAAAAAACX7UAAAAAAAAAYQAAAAACgbv5AAAAAAAAAPEAAAAAAQHkEQQAAAAAAADxAAAAAAIAq9EAAAAAAAAA5QAAAAAAATP1AAAAAAAAANEAAAAAAAHz1QAAAAAAAAE5AAAAAAODCEUEAAAAAAAA5QAAAAAAATP1AAAAAAAAALEAAAAAAwJ0PQQAAAAAAADFAAAAAABAt+EA=",
          "dtype": "f8",
          "shape": "80, 2"
         },
         "hovertemplate": "<b>%{hovertext}</b><br><br>School Enrollment=%{x}<br>Scholarship Percentage (%)=%{y:.1f}<br>Scholarships=%{customdata[0]}<br>Total Financial Burden=%{customdata[1]:,.0f}<extra></extra>",
         "hovertext": [
          "All Saints Catholic School",
          "Annunciation School",
          "Ascension School",
          "Ave Maria Academy (Maple Grove, MN)",
          "Benilde-St. Margaret's Schools",
          "Bethlehem Academy (Faribault, MN)",
          "Blessed Trinity Catholic School ",
          "Carondelet Catholic School (Minneapolis, MN)",
          "Community of Saints School",
          "Divine Mercy Catholic School",
          "Epiphany School ",
          "Faithful Shepherd Catholic School ",
          "Frassati Catholic Academy (White Bear Lake)",
          "Good Shepherd",
          "Highland Catholic St. Paul, MN)",
          "Hill-Murray School (Maplewood, MN)",
          "Holy Cross Catholic School ",
          "Holy Family Academy (St. Louis Park, MN)",
          "Holy Name of Jesus School",
          "Holy Spirit Elementary School",
          "Holy Trinity School (South Saint Paul, MN)",
          "Immaculate Conception",
          "Mary, Queen of Peace Catholic School",
          "Maternity of Mary - Saint Andrew School",
          "Most Holy Redeemer School",
          "Nativity of Mary School",
          "Nativity of Our Lord Catholic School",
          "Notre Dame Academy",
          "Our Lady of Grace",
          "Our Lady of Peace School (Minneapolis, MN)",
          "Our Lady of the Lake Catholic School",
          "Our Lady of the Prairie School",
          "Presentation of the Blessed Virgin Mary School (Maplewood, MN)",
          "Providence Academy (Plymouth, MN)",
          "Risen Christ Catholic School",
          "Sacred Heart School",
          "Saint Agnes School ",
          "Saint Ambrose of Woodbury",
          "Saint Anne's School (Le Sueur, MN)",
          "Saint Bartholomew's School (Wayzata, MN)",
          "Saint Charles Borromeo School (Saint Anthony, MN)",
          "Saint Croix Catholic School (Stillwater, MN)",
          "Saint Dominic Elementary School (Northfield, MN)",
          "Saint Elizabeth Ann Seton School ",
          "Saint Francis Xavier School (Buffalo, MN)",
          "Saint Helena School ",
          "Saint Hubert School (Chanhassen, MN)",
          "Saint Jerome School ",
          "Saint John Paul II Catholic School",
          "Saint John School of Little Canada ",
          "Saint John the Baptist Catholic Montessori (Excelsior)",
          "Saint John the Baptist Catholic School (Savage, MN)",
          "Saint John the Baptist School (Jordan, MN)",
          "Saint John the Baptist School (New Brighton, MN)",
          "Saint John the Baptist School (Vermillion, MN)",
          "Saint Joseph School (Rosemount, MN)",
          "Saint Joseph School (Waconia, MN)",
          "Saint Joseph's Catholic School (West Saint Paul, MN)",
          "Saint Jude of the Lake Catholic School (Mahtomedi, MN)",
          "Saint Maximilian Kolbe Academy (Delano, MN)",
          "Saint Michael Catholic School (Saint Michael, MN)",
          "Saint Michael School (Prior Lake, MN)",
          "Saint Odilia School",
          "Saint Pascal Baylon Regional School",
          "Saint Peter Claver School",
          "Saint Peter School (North Saint Paul, MN)",
          "Saint Peter's Catholic School (Forest Lake, MN)",
          "Saint Raphael Catholic School (Crystal, MN)",
          "Saint Rose of Lima School (Roseville, MN)",
          "Saint Stephen's Catholic School ",
          "Saint Therese School (Deephaven, MN)",
          "Saint Thomas Academy",
          "Saint Thomas More ",
          "Saint Timothy School ",
          "Saint Vincent de Paul Catholic School",
          "Saint Wenceslaus School (New Prague, MN)",
          "Shakopee Area Catholic School",
          "Transfiguration Catholic School ",
          "Visitation School",
          "Way of the Shepherd School (Blaine, MN)"
         ],
         "legendgroup": "",
         "marker": {
          "color": "#636efa",
          "symbol": "circle"
         },
         "mode": "markers",
         "name": "",
         "orientation": "v",
         "showlegend": false,
         "type": "scatter",
         "x": {
          "bdata": "AAAAAACweUAAAAAAAEB1QAAAAAAAAHFAAAAAAAAgZEAAAAAAAEBoQAAAAAAAAFlAAAAAAACgaEAAAAAAAOB3QAAAAAAAgGhAAAAAAACgakAAAAAAAMBxQAAAAAAAcHlAAAAAAACgaEAAAAAAADBzQAAAAAAAIHhAAAAAAACQc0AAAAAAAABZQAAAAAAA4GdAAAAAAAAweUAAAAAAAEBnQAAAAAAAAFZAAAAAAACAYkAAAAAAAIBTQAAAAAAAwFVAAAAAAACARkAAAAAAAMBxQAAAAAAAeIRAAAAAAAAAa0AAAAAAANCHQAAAAAAAQGZAAAAAAACAXkAAAAAAAAA4QAAAAAAAAF9AAAAAAADggUAAAAAAALBzQAAAAAAAwGNAAAAAAADge0AAAAAAAHiCQAAAAAAAgFpAAAAAAAAAUUAAAAAAAEBzQAAAAAAA4HVAAAAAAACAU0AAAAAAAKBmQAAAAAAAQHJAAAAAAADAWUAAAAAAAGiDQAAAAAAAYGVAAAAAAAAAakAAAAAAAKBqQAAAAAAAgElAAAAAAADAbkAAAAAAAIBcQAAAAAAA4HdAAAAAAABAUUAAAAAAANBwQAAAAAAAAGJAAAAAAADQeEAAAAAAAGBtQAAAAAAAgFRAAAAAAAAAe0AAAAAAAAB1QAAAAAAA2IJAAAAAAADAXEAAAAAAAEBUQAAAAAAAwGdAAAAAAACwcUAAAAAAACBlQAAAAAAAoGFAAAAAAADAdEAAAAAAADByQAAAAAAA4GFAAAAAAADwcEAAAAAAAIBeQAAAAAAAEH1AAAAAAACAY0AAAAAAAKB9QAAAAAAAAFtAAAAAAADAbUAAAAAAAMBRQA==",
          "dtype": "f8"
         },
         "xaxis": "x",
         "y": {
          "bdata": "1Z6T6auEEUAAAAAAAAAUQHl4eHh4eDpAFRN0VykmIEDQUYEvrn4QQAAAAAAAADZAWX8Gv4meSEC2iOasQfH0P+YUvJyCF0FAagiVdKOYNUBphc2BRCssQKuQ9khUlgdAMB/ILixGIkBpdsam6HMHQP2BHikhpyJA9H2WiCGPCUAAAAAAAAAoQAHBkGwRzSFANb/BVUPSB0BIHnnkkUcyQHXRRRdddDRAfdYNpshnTkAu3/It3/IhQLHc0wjLPUFAx3Ecx3EcL0B6Mn671JMtQOgDqmNvbQhAAAAAAAAAKUBMJpPJZDLpP/e6173udS9AFZcMwTraMkCrqqqqqio9QPjee++990RAL7rooosuEkAkSZIkSZJMQOZ3tbgJ8zlAqDONGxh1KkAOcZUpYD4QQBhvZZ9DahpApqWlpaWlIUAeUwN7x9QiQEmSJEmSJCFASIM0SIM0PEBonlALGJMgQM+dO3fu3CNAD/ZbbQxNR0BZY+u5EQkCQM1lNJfRXExAYid2Yie2Q0BFrjMBg8cyQKalpaWlpTFANIVAUwg0KUDXUF5DeQ0lQKc9rgKCIRlAFrKQhSxkMUCst3v2sRkhQBzHcRzH8S9AC2tCPWWvKECYXEFMriAmQJyPwfkYnDlA5DiO4ziOHkCqqqqqqqoQQHhlA2gRNQlAOL3pTW96R0CnW/PDImVMQKK8hvIayjlA07UVOGadJkD0xxyl21dCQMBuj7UMHShAKOGNps6vFUDQUYEvrn4QQCuYJeWAyBBAFXZNcgmqJEBcMgTraPM2QIEFFlhggRVAQRqkQRqkKUCi0pE9A1EpQF9CewntJTdAh4eHh4eHF0AyfrvUk/E3QA==",
          "dtype": "f8"
         },
         "yaxis": "y"
        }
       ],
       "layout": {
        "legend": {
         "tracegroupgap": 0
        },
        "template": {
         "data": {
          "bar": [
           {
            "error_x": {
             "color": "#2a3f5f"
            },
            "error_y": {
             "color": "#2a3f5f"
            },
            "marker": {
             "line": {
              "color": "#E5ECF6",
              "width": 0.5
             },
             "pattern": {
              "fillmode": "overlay",
              "size": 10,
              "solidity": 0.2
             }
            },
            "type": "bar"
           }
          ],
          "barpolar": [
           {
            "marker": {
             "line": {
              "color": "#E5ECF6",
              "width": 0.5
             },
             "pattern": {
              "fillmode": "overlay",
              "size": 10,
              "solidity": 0.2
             }
            },
            "type": "barpolar"
           }
          ],
          "carpet": [
           {
            "aaxis": {
             "endlinecolor": "#2a3f5f",
             "gridcolor": "white",
             "linecolor": "white",
             "minorgridcolor": "white",
             "startlinecolor": "#2a3f5f"
            },
            "baxis": {
             "endlinecolor": "#2a3f5f",
             "gridcolor": "white",
             "linecolor": "white",
             "minorgridcolor": "white",
             "startlinecolor": "#2a3f5f"
            },
            "type": "carpet"
           }
          ],
          "choropleth": [
           {
            "colorbar": {
             "outlinewidth": 0,
             "ticks": ""
            },
            "type": "choropleth"
           }
          ],
          "contour": [
           {
            "colorbar": {
             "outlinewidth": 0,
             "ticks": ""
            },
            "colorscale": [
             [
              0,
              "#0d0887"
             ],
             [
              0.1111111111111111,
              "#46039f"
             ],
             [
              0.2222222222222222,
              "#7201a8"
             ],
             [
              0.3333333333333333,
              "#9c179e"
             ],
             [
              0.4444444444444444,
              "#bd3786"
             ],
             [
              0.5555555555555556,
              "#d8576b"
             ],
             [
              0.6666666666666666,
              "#ed7953"
             ],
             [
              0.7777777777777778,
              "#fb9f3a"
             ],
             [
              0.8888888888888888,
              "#fdca26"
             ],
             [
              1,
              "#f0f921"
             ]
            ],
            "type": "contour"
           }
          ],
          "contourcarpet": [
           {
            "colorbar": {
             "outlinewidth": 0,
             "ticks": ""
            },
            "type": "contourcarpet"
           }
          ],
          "heatmap": [
           {
            "colorbar": {
             "outlinewidth": 0,
             "ticks": ""
            },
            "colorscale": [
             [
              0,
              "#0d0887"
             ],
             [
              0.1111111111111111,
              "#46039f"
             ],
             [
              0.2222222222222222,
              "#7201a8"
             ],
             [
              0.3333333333333333,
              "#9c179e"
             ],
             [
              0.4444444444444444,
              "#bd3786"
             ],
             [
              0.5555555555555556,
              "#d8576b"
             ],
             [
              0.6666666666666666,
              "#ed7953"
             ],
             [
              0.7777777777777778,
              "#fb9f3a"
             ],
             [
              0.8888888888888888,
              "#fdca26"
             ],
             [
              1,
              "#f0f921"
             ]
            ],
            "type": "heatmap"
           }
          ],
          "histogram": [
           {
            "marker": {
             "pattern": {
              "fillmode": "overlay",
              "size": 10,
              "solidity": 0.2
             }
            },
            "type": "histogram"
           }
          ],
          "histogram2d": [
           {
            "colorbar": {
             "outlinewidth": 0,
             "ticks": ""
            },
            "colorscale": [
             [
              0,
              "#0d0887"
             ],
             [
              0.1111111111111111,
              "#46039f"
             ],
             [
              0.2222222222222222,
              "#7201a8"
             ],
             [
              0.3333333333333333,
              "#9c179e"
             ],
             [
              0.4444444444444444,
              "#bd3786"
             ],
             [
              0.5555555555555556,
              "#d8576b"
             ],
             [
              0.6666666666666666,
              "#ed7953"
             ],
             [
              0.7777777777777778,
              "#fb9f3a"
             ],
             [
              0.8888888888888888,
              "#fdca26"
             ],
             [
              1,
              "#f0f921"
             ]
            ],
            "type": "histogram2d"
           }
          ],
          "histogram2dcontour": [
           {
            "colorbar": {
             "outlinewidth": 0,
             "ticks": ""
            },
            "colorscale": [
             [
              0,
              "#0d0887"
             ],
             [
              0.1111111111111111,
              "#46039f"
             ],
             [
              0.2222222222222222,
              "#7201a8"
             ],
             [
              0.3333333333333333,
              "#9c179e"
             ],
             [
              0.4444444444444444,
              "#bd3786"
             ],
             [
              0.5555555555555556,
              "#d8576b"
             ],
             [
              0.6666666666666666,
              "#ed7953"
             ],
             [
              0.7777777777777778,
              "#fb9f3a"
             ],
             [
              0.8888888888888888,
              "#fdca26"
             ],
             [
              1,
              "#f0f921"
             ]
            ],
            "type": "histogram2dcontour"
           }
          ],
          "mesh3d": [
           {
            "colorbar": {
             "outlinewidth": 0,
             "ticks": ""
            },
            "type": "mesh3d"
           }
          ],
          "parcoords": [
           {
            "line": {
             "colorbar": {
              "outlinewidth": 0,
              "ticks": ""
             }
            },
            "type": "parcoords"
           }
          ],
          "pie": [
           {
            "automargin": true,
            "type": "pie"
           }
          ],
          "scatter": [
           {
            "fillpattern": {
             "fillmode": "overlay",
             "size": 10,
             "solidity": 0.2
            },
            "type": "scatter"
           }
          ],
          "scatter3d": [
           {
            "line": {
             "colorbar": {
              "outlinewidth": 0,
              "ticks": ""
             }
            },
            "marker": {
             "colorbar": {
              "outlinewidth": 0,
              "ticks": ""
             }
            },
            "type": "scatter3d"
           }
          ],
          "scattercarpet": [
           {
            "marker": {
             "colorbar": {
              "outlinewidth": 0,
              "ticks": ""
             }
            },
            "type": "scattercarpet"
           }
          ],
          "scattergeo": [
           {
            "marker": {
             "colorbar": {
              "outlinewidth": 0,
              "ticks": ""
             }
            },
            "type": "scattergeo"
           }
          ],
          "scattergl": [
           {
            "marker": {
             "colorbar": {
              "outlinewidth": 0,
              "ticks": ""
             }
            },
            "type": "scattergl"
           }
          ],
          "scattermap": [
           {
            "marker": {
             "colorbar": {
              "outlinewidth": 0,
              "ticks": ""
             }
            },
            "type": "scattermap"
           }
          ],
          "scattermapbox": [
           {
            "marker": {
             "colorbar": {
              "outlinewidth": 0,
              "ticks": ""
             }
            },
            "type": "scattermapbox"
           }
          ],
          "scatterpolar": [
           {
            "marker": {
             "colorbar": {
              "outlinewidth": 0,
              "ticks": ""
             }
            },
            "type": "scatterpolar"
           }
          ],
          "scatterpolargl": [
           {
            "marker": {
             "colorbar": {
              "outlinewidth": 0,
              "ticks": ""
             }
            },
            "type": "scatterpolargl"
           }
          ],
          "scatterternary": [
           {
            "marker": {
             "colorbar": {
              "outlinewidth": 0,
              "ticks": ""
             }
            },
            "type": "scatterternary"
           }
          ],
          "surface": [
           {
            "colorbar": {
             "outlinewidth": 0,
             "ticks": ""
            },
            "colorscale": [
             [
              0,
              "#0d0887"
             ],
             [
              0.1111111111111111,
              "#46039f"
             ],
             [
              0.2222222222222222,
              "#7201a8"
             ],
             [
              0.3333333333333333,
              "#9c179e"
             ],
             [
              0.4444444444444444,
              "#bd3786"
             ],
             [
              0.5555555555555556,
              "#d8576b"
             ],
             [
              0.6666666666666666,
              "#ed7953"
             ],
             [
              0.7777777777777778,
              "#fb9f3a"
             ],
             [
              0.8888888888888888,
              "#fdca26"
             ],
             [
              1,
              "#f0f921"
             ]
            ],
            "type": "surface"
           }
          ],
          "table": [
           {
            "cells": {
             "fill": {
              "color": "#EBF0F8"
             },
             "line": {
              "color": "white"
             }
            },
            "header": {
             "fill": {
              "color": "#C8D4E3"
             },
             "line": {
              "color": "white"
             }
            },
            "type": "table"
           }
          ]
         },
         "layout": {
          "annotationdefaults": {
           "arrowcolor": "#2a3f5f",
           "arrowhead": 0,
           "arrowwidth": 1
          },
          "autotypenumbers": "strict",
          "coloraxis": {
           "colorbar": {
            "outlinewidth": 0,
            "ticks": ""
           }
          },
          "colorscale": {
           "diverging": [
            [
             0,
             "#8e0152"
            ],
            [
             0.1,
             "#c51b7d"
            ],
            [
             0.2,
             "#de77ae"
            ],
            [
             0.3,
             "#f1b6da"
            ],
            [
             0.4,
             "#fde0ef"
            ],
            [
             0.5,
             "#f7f7f7"
            ],
            [
             0.6,
             "#e6f5d0"
            ],
            [
             0.7,
             "#b8e186"
            ],
            [
             0.8,
             "#7fbc41"
            ],
            [
             0.9,
             "#4d9221"
            ],
            [
             1,
             "#276419"
            ]
           ],
           "sequential": [
            [
             0,
             "#0d0887"
            ],
            [
             0.1111111111111111,
             "#46039f"
            ],
            [
             0.2222222222222222,
             "#7201a8"
            ],
            [
             0.3333333333333333,
             "#9c179e"
            ],
            [
             0.4444444444444444,
             "#bd3786"
            ],
            [
             0.5555555555555556,
             "#d8576b"
            ],
            [
             0.6666666666666666,
             "#ed7953"
            ],
            [
             0.7777777777777778,
             "#fb9f3a"
            ],
            [
             0.8888888888888888,
             "#fdca26"
            ],
            [
             1,
             "#f0f921"
            ]
           ],
           "sequentialminus": [
            [
             0,
             "#0d0887"
            ],
            [
             0.1111111111111111,
             "#46039f"
            ],
            [
             0.2222222222222222,
             "#7201a8"
            ],
            [
             0.3333333333333333,
             "#9c179e"
            ],
            [
             0.4444444444444444,
             "#bd3786"
            ],
            [
             0.5555555555555556,
             "#d8576b"
            ],
            [
             0.6666666666666666,
             "#ed7953"
            ],
            [
             0.7777777777777778,
             "#fb9f3a"
            ],
            [
             0.8888888888888888,
             "#fdca26"
            ],
            [
             1,
             "#f0f921"
            ]
           ]
          },
          "colorway": [
           "#636efa",
           "#EF553B",
           "#00cc96",
           "#ab63fa",
           "#FFA15A",
           "#19d3f3",
           "#FF6692",
           "#B6E880",
           "#FF97FF",
           "#FECB52"
          ],
          "font": {
           "color": "#2a3f5f"
          },
          "geo": {
           "bgcolor": "white",
           "lakecolor": "white",
           "landcolor": "#E5ECF6",
           "showlakes": true,
           "showland": true,
           "subunitcolor": "white"
          },
          "hoverlabel": {
           "align": "left"
          },
          "hovermode": "closest",
          "mapbox": {
           "style": "light"
          },
          "paper_bgcolor": "white",
          "plot_bgcolor": "#E5ECF6",
          "polar": {
           "angularaxis": {
            "gridcolor": "white",
            "linecolor": "white",
            "ticks": ""
           },
           "bgcolor": "#E5ECF6",
           "radialaxis": {
            "gridcolor": "white",
            "linecolor": "white",
            "ticks": ""
           }
          },
          "scene": {
           "xaxis": {
            "backgroundcolor": "#E5ECF6",
            "gridcolor": "white",
            "gridwidth": 2,
            "linecolor": "white",
            "showbackground": true,
            "ticks": "",
            "zerolinecolor": "white"
           },
           "yaxis": {
            "backgroundcolor": "#E5ECF6",
            "gridcolor": "white",
            "gridwidth": 2,
            "linecolor": "white",
            "showbackground": true,
            "ticks": "",
            "zerolinecolor": "white"
           },
           "zaxis": {
            "backgroundcolor": "#E5ECF6",
            "gridcolor": "white",
            "gridwidth": 2,
            "linecolor": "white",
            "showbackground": true,
            "ticks": "",
            "zerolinecolor": "white"
           }
          },
          "shapedefaults": {
           "line": {
            "color": "#2a3f5f"
           }
          },
          "ternary": {
           "aaxis": {
            "gridcolor": "white",
            "linecolor": "white",
            "ticks": ""
           },
           "baxis": {
            "gridcolor": "white",
            "linecolor": "white",
            "ticks": ""
           },
           "bgcolor": "#E5ECF6",
           "caxis": {
            "gridcolor": "white",
            "linecolor": "white",
            "ticks": ""
           }
          },
          "title": {
           "x": 0.05
          },
          "xaxis": {
           "automargin": true,
           "gridcolor": "white",
           "linecolor": "white",
           "ticks": "",
           "title": {
            "standoff": 15
           },
           "zerolinecolor": "white",
           "zerolinewidth": 2
          },
          "yaxis": {
           "automargin": true,
           "gridcolor": "white",
           "linecolor": "white",
           "ticks": "",
           "title": {
            "standoff": 15
           },
           "zerolinecolor": "white",
           "zerolinewidth": 2
          }
         }
        },
        "title": {
         "text": "Scholarship Percentage vs Enrollment by School"
        },
        "xaxis": {
         "anchor": "y",
         "domain": [
          0,
          1
         ],
         "title": {
          "text": "School Enrollment"
         }
        },
        "yaxis": {
         "anchor": "x",
         "domain": [
          0,
          1
         ],
         "title": {
          "text": "Scholarship Percentage (%)"
         }
        }
       }
      },
      "image/png": "[encoded data removed]"
     },
     "metadata": {},
     "output_type": "display_data"
    }
   ],
   "source": [
    "# Create visualizations focused on scholarships\n",
    "\n",
    "# 1. Scholarship distribution by school\n",
    "fig1 = px.histogram(\n",
    "    df_clean,\n",
    "    x='Scholarships',\n",
    "    nbins=20,\n",
    "    title='Distribution of Scholarships per School',\n",
    "    labels={'Scholarships': 'Number of Scholarships', 'count': 'Number of Schools'}\n",
    ")\n",
    "fig1.show()\n",
    "\n",
    "# 2. Top ZIP codes by total scholarships\n",
    "zip_aggregated = df_clean.groupby('zip_code').agg({\n",
    "    'Tuition_Clean': 'mean',\n",
    "    'Scholarships': 'sum',\n",
    "    'Enrollment_Clean': 'sum',\n",
    "    'School': 'count'\n",
    "}).reset_index()\n",
    "zip_aggregated.columns = ['zip_code', 'avg_tuition', 'total_scholarships', 'total_enrollment', 'school_count']\n",
    "\n",
    "fig2 = px.bar(\n",
    "    zip_aggregated.nlargest(15, 'total_scholarships'),\n",
    "    x='zip_code',\n",
    "    y='total_scholarships',\n",
    "    title='Total Scholarships by ZIP Code (Top 15)',\n",
    "    labels={'total_scholarships': 'Total Scholarships', 'zip_code': 'ZIP Code'}\n",
    ")\n",
    "fig2.update_layout(xaxis_tickangle=-45)\n",
    "fig2.show()\n",
    "\n",
    "# 3. Scholarship percentage vs Enrollment scatter plot\n",
    "# Calculate scholarship percentage (avoid division by zero)\n",
    "df_clean['scholarship_percentage'] = df_clean.apply(\n",
    "    lambda row: (row['Scholarships'] / row['Enrollment_Clean'] * 100) if row['Enrollment_Clean'] > 0 else 0, \n",
    "    axis=1\n",
    ")\n",
    "\n",
    "# Calculate total financial burden: (Tuition - 1000) * Scholarships\n",
    "df_clean['total_financial_burden'] = (df_clean['Tuition_Clean'] - 1000) * df_clean['Scholarships']\n",
    "\n",
    "fig3 = px.scatter(\n",
    "    df_clean,\n",
    "    x='Enrollment_Clean',\n",
    "    y='scholarship_percentage',\n",
    "    hover_name='School',\n",
    "    hover_data={\n",
    "        'Scholarships': True,\n",
    "        'Enrollment_Clean': True,\n",
    "        'scholarship_percentage': ':.1f',\n",
    "        'total_financial_burden': ':,.0f'\n",
    "    },\n",
    "    title='Scholarship Percentage vs Enrollment by School',\n",
    "    labels={\n",
    "        'Enrollment_Clean': 'School Enrollment', \n",
    "        'scholarship_percentage': 'Scholarship Percentage (%)',\n",
    "        'total_financial_burden': 'Total Financial Burden'\n",
    "    }\n",
    ")\n",
    "fig3.show()\n",
    "\n",
    "\n"
   ]
  },
  {
   "cell_type": "code",
   "execution_count": 118,
   "metadata": {
    "jupyter": {
     "source_hidden": true
    }
   },
   "outputs": [],
   "source": [
    "# Process mapping results from official ZIP-County data\n",
    "mapped_schools = df_clean.dropna(subset=['county_fips'])\n"
   ]
  },
  {
   "cell_type": "code",
   "execution_count": 119,
   "metadata": {
    "jupyter": {
     "source_hidden": true
    }
   },
   "outputs": [],
   "source": [
    "# Load comprehensive ZIP code coordinates - REQUIRED\n",
    "# Load the ZIP coordinates file from Excel\n",
    "zip_coords_df = pd.read_excel('data/mn_zip_cords_excel.xlsx', dtype={'Zip': str})\n",
    "\n",
    "# Filter for Minnesota and create mapping (adjust column names as needed)\n",
    "if 'State' in zip_coords_df.columns:\n",
    "    mn_coords = zip_coords_df[zip_coords_df['State'] == 'MN']\n",
    "else:\n",
    "    mn_coords = zip_coords_df  # Assume it's already Minnesota data\n",
    "\n",
    "# The coordinates are in the \"Geo Point\" column as \"latitude, longitude\" strings\n",
    "zip_col = 'Zip Code'\n",
    "geo_point_col = 'Geo Point'\n",
    "\n",
    "# Create the coordinate mapping by parsing the Geo Point column\n",
    "zip_coord_map = {}\n",
    "successful_mappings = 0\n",
    "failed_mappings = 0\n",
    "\n",
    "for _, row in mn_coords.iterrows():\n",
    "    zip_code = str(row[zip_col]).zfill(5)  # Ensure 5-digit ZIP code\n",
    "    geo_point = row[geo_point_col]\n",
    "    \n",
    "    if pd.notna(geo_point) and isinstance(geo_point, str):\n",
    "        try:\n",
    "            # Split the \"latitude, longitude\" string\n",
    "            parts = geo_point.split(',')\n",
    "            if len(parts) == 2:\n",
    "                lat_num = float(parts[0].strip())\n",
    "                lon_num = float(parts[1].strip())\n",
    "                zip_coord_map[zip_code] = (lat_num, lon_num)\n",
    "                successful_mappings += 1\n",
    "            else:\n",
    "                failed_mappings += 1\n",
    "        except (ValueError, TypeError):\n",
    "            failed_mappings += 1\n",
    "    else:\n",
    "        failed_mappings += 1\n",
    "\n",
    "# Apply coordinates to our data\n",
    "df_clean['lat'] = df_clean['zip_code'].map(lambda x: zip_coord_map.get(x, (None, None))[0] if x in zip_coord_map else None)\n",
    "df_clean['lon'] = df_clean['zip_code'].map(lambda x: zip_coord_map.get(x, (None, None))[1] if x in zip_coord_map else None)\n"
   ]
  },
  {
   "cell_type": "code",
   "execution_count": 120,
   "metadata": {
    "jupyter": {
     "source_hidden": true
    },
    "scrolled": true
   },
   "outputs": [
    {
     "data": {
      "application/vnd.plotly.v1+json": {
       "config": {
        "plotlyServerURL": "https://plot.ly"
       },
       "data": [
        {
         "customdata": [
          [
           "55044",
           18,
           4.37956204379562,
           91800,
           6100,
           411,
           "Lakeville"
          ],
          [
           "55419",
           17,
           5,
           98600,
           6800,
           340,
           "Minneapolis"
          ],
          [
           "55411",
           72,
           26.47058823529412,
           28800,
           1400,
           272,
           "Minneapolis"
          ],
          [
           "55311",
           13,
           8.074534161490684,
           114400,
           9800,
           161,
           "Maple Grove"
          ],
          [
           "55416",
           8,
           4.123711340206185,
           117000,
           15625,
           194,
           "St Louis Park"
          ],
          [
           "55021",
           22,
           22,
           130900,
           6950,
           100,
           "Faribault"
          ],
          [
           "55423",
           97,
           49.23857868020304,
           426800,
           5400,
           197,
           "Richfield"
          ],
          [
           "55410",
           5,
           1.3089005235602094,
           35000,
           8000,
           382,
           "Minneapolis"
          ],
          [
           "55118",
           67,
           34.183673469387756,
           270010,
           5030,
           196,
           "West Saint Paul"
          ],
          [
           "55021",
           46,
           21.5962441314554,
           149500,
           4250,
           213,
           "Faribault"
          ],
          [
           "55433",
           40,
           14.084507042253522,
           246000,
           7150,
           284,
           "Coon Rapids"
          ],
          [
           "55121",
           12,
           2.9484029484029484,
           78000,
           7500,
           407,
           "Eagan"
          ],
          [
           "55110",
           18,
           9.137055837563452,
           129600,
           8200,
           197,
           "White Bear Lake"
          ],
          [
           "55426",
           9,
           2.9315960912052117,
           62550,
           7950,
           307,
           "Golden Valley"
          ],
          [
           "55116",
           36,
           9.32642487046632,
           245700,
           7825,
           386,
           "Saint Paul"
          ],
          [
           "55109",
           10,
           3.1948881789137378,
           129000,
           13900,
           313,
           "Maplewood"
          ],
          [
           "55088",
           12,
           12,
           45600,
           4800,
           100,
           "Webster"
          ],
          [
           "55416",
           17,
           8.900523560209423,
           88400,
           6200,
           191,
           "Saint Louis Park"
          ],
          [
           "55391",
           12,
           2.977667493796526,
           65760,
           6480,
           403,
           "Wayzata"
          ],
          [
           "55116",
           34,
           18.27956989247312,
           194650,
           6725,
           186,
           "Saint Paul"
          ],
          [
           "55075",
           18,
           20.454545454545457,
           83700,
           5650,
           88,
           "South Saint Paul"
          ],
          [
           "55421",
           90,
           60.810810810810814,
           373500,
           5150,
           148,
           "Columbia Heights"
          ],
          [
           "55374",
           7,
           8.974358974358974,
           24675,
           4525,
           78,
           "Rogers"
          ],
          [
           "55117",
           30,
           34.48275862068966,
           129000,
           5300,
           87,
           "Saint Paul"
          ],
          [
           "56069",
           7,
           15.555555555555555,
           18165,
           3595,
           45,
           "Montgomery"
          ],
          [
           "55420",
           42,
           14.788732394366196,
           228900,
           6450,
           284,
           "Bloomington"
          ],
          [
           "55105",
           20,
           3.0534351145038165,
           110500,
           6525,
           655,
           "Saint Paul"
          ],
          [
           "55345",
           27,
           12.5,
           145125,
           6375,
           216,
           "Minnetonka"
          ],
          [
           "55436",
           6,
           0.7874015748031495,
           40200,
           7700,
           762,
           "Edina"
          ],
          [
           "55417",
           28,
           15.730337078651685,
           140700,
           6025,
           178,
           "Minneapolis"
          ],
          [
           "55364",
           23,
           18.852459016393443,
           112700,
           5900,
           122,
           "Mound"
          ],
          [
           "56011",
           7,
           29.166666666666668,
           21350,
           4050,
           24,
           "Belle Plaine"
          ],
          [
           "55109",
           52,
           41.935483870967744,
           234000,
           5500,
           124,
           "Maplewood"
          ],
          [
           "55446",
           26,
           4.545454545454546,
           474500,
           19250,
           572,
           "Plymouth"
          ],
          [
           "55407",
           180,
           57.14285714285714,
           666000,
           4700,
           315,
           "Minneapolis"
          ],
          [
           "55422",
           41,
           25.949367088607595,
           226525,
           6525,
           158,
           "Robbinsdale"
          ],
          [
           "55103",
           59,
           13.228699551569505,
           318600,
           6400,
           446,
           "St. Paul"
          ],
          [
           "55129",
           24,
           4.060913705583756,
           152400,
           7350,
           591,
           "Woodbury"
          ],
          [
           "56058",
           7,
           6.60377358490566,
           19775,
           3825,
           106,
           "Le Sueur"
          ],
          [
           "55391",
           6,
           8.823529411764707,
           17700,
           3950,
           68,
           "Wayzata"
          ],
          [
           "55418",
           29,
           9.415584415584416,
           140650,
           5850,
           308,
           "Minneapolis"
          ],
          [
           "55082",
           30,
           8.571428571428571,
           151500,
           6050,
           350,
           "Stillwater"
          ],
          [
           "55057",
           22,
           28.205128205128204,
           105600,
           5800,
           78,
           "Northfield"
          ],
          [
           "55033",
           15,
           8.287292817679557,
           65625,
           5375,
           181,
           "Hastings"
          ],
          [
           "55313",
           29,
           9.931506849315069,
           110200,
           4800,
           292,
           "Buffalo"
          ],
          [
           "55406",
           48,
           46.601941747572816,
           211200,
           5400,
           103,
           "Minneapolis"
          ],
          [
           "55317",
           14,
           2.254428341384863,
           73850,
           6275,
           621,
           "Chanhassen"
          ],
          [
           "55117",
           97,
           56.72514619883041,
           426800,
           5400,
           171,
           "Maplewood"
          ],
          [
           "55413",
           82,
           39.42307692307692,
           130790,
           2595,
           208,
           "Minneapolis"
          ],
          [
           "55117",
           40,
           18.779342723004692,
           182000,
           5550,
           213,
           "Little Canada"
          ],
          [
           "55331",
           9,
           17.647058823529413,
           46125,
           6125,
           51,
           "Excelsior"
          ],
          [
           "55378",
           31,
           12.601626016260163,
           155000,
           6000,
           246,
           "Savage"
          ],
          [
           "55352",
           12,
           10.526315789473683,
           56700,
           5725,
           114,
           "Jordan"
          ],
          [
           "55112",
           24,
           6.282722513089005,
           117600,
           5900,
           382,
           "New Brighton"
          ],
          [
           "55085",
           12,
           17.391304347826086,
           34800,
           3900,
           69,
           "Vermillion"
          ],
          [
           "55068",
           23,
           8.550185873605948,
           128225,
           6575,
           269,
           "Rosemount"
          ],
          [
           "55387",
           23,
           15.972222222222221,
           112700,
           5900,
           144,
           "Waconia"
          ],
          [
           "55118",
           49,
           12.34256926952141,
           263375,
           6375,
           397,
           "West Saint Paul"
          ],
          [
           "55115",
           26,
           11.063829787234042,
           133250,
           6125,
           235,
           "Mahtomedi"
          ],
          [
           "55328",
           21,
           25.609756097560975,
           90300,
           5300,
           82,
           "Delano"
          ],
          [
           "55376",
           33,
           7.638888888888889,
           135300,
           5100,
           432,
           "Saint Michael"
          ],
          [
           "55372",
           14,
           4.166666666666666,
           67200,
           5800,
           336,
           "Prior Lake"
          ],
          [
           "55126",
           19,
           3.150912106135987,
           109725,
           6775,
           603,
           "Shoreview"
          ],
          [
           "55106",
           54,
           46.95652173913044,
           194400,
           4600,
           115,
           "St. Paul"
          ],
          [
           "55104",
           46,
           56.79012345679012,
           18400,
           1400,
           81,
           "Saint Paul"
          ],
          [
           "55109",
           49,
           25.789473684210527,
           222950,
           5550,
           190,
           "North Saint Paul"
          ],
          [
           "55025",
           32,
           11.307420494699647,
           156000,
           5875,
           283,
           "Forest Lake"
          ],
          [
           "55428",
           62,
           36.68639053254438,
           305040,
           5920,
           169,
           "Crystal"
          ],
          [
           "55113",
           17,
           12.056737588652481,
           81600,
           5800,
           141,
           "Roseville"
          ],
          [
           "55303",
           18,
           5.421686746987952,
           89280,
           5960,
           332,
           "Anoka"
          ],
          [
           "55391",
           12,
           4.123711340206185,
           60600,
           6050,
           291,
           "Deephaven"
          ],
          [
           "55120",
           6,
           4.195804195804196,
           124650,
           21775,
           143,
           "Mendota Heights"
          ],
          [
           "55105",
           28,
           10.33210332103321,
           167720,
           6990,
           271,
           "Saint Paul"
          ],
          [
           "55358",
           28,
           22.950819672131146,
           82600,
           3950,
           122,
           "Maple Lake"
          ],
          [
           "55445",
           25,
           5.376344086021505,
           120000,
           5800,
           465,
           "Brooklyn Park"
          ],
          [
           "56071",
           20,
           12.82051282051282,
           88000,
           5400,
           156,
           "New Prague"
          ],
          [
           "55379",
           60,
           12.658227848101266,
           291000,
           5850,
           474,
           "Shakopee"
          ],
          [
           "55128",
           25,
           23.14814814814815,
           120000,
           5800,
           108,
           "Oakdale"
          ],
          [
           "55120",
           14,
           5.88235294117647,
           259000,
           19500,
           238,
           "Mendota Heights"
          ],
          [
           "55434",
           17,
           23.943661971830984,
           99025,
           6825,
           71,
           "Blaine"
          ]
         ],
         "hovertemplate": "<b>%{hovertext}</b><br><br>Scholarship %=%{customdata[2]:.1f}<br>lat=%{lat}<br>lon=%{lon}<br>zip_code=%{customdata[0]}<br>Scholarships=%{marker.color}<br>Total Financial Burden=%{customdata[3]:,.0f}<br>Tuition=%{customdata[4]:.0f}<br>Enrollment=%{customdata[5]:.0f}<br>School City=%{customdata[6]}<extra></extra>",
         "hovertext": [
          "All Saints Catholic School",
          "Annunciation School",
          "Ascension School",
          "Ave Maria Academy (Maple Grove, MN)",
          "Benilde-St. Margaret's Schools",
          "Bethlehem Academy (Faribault, MN)",
          "Blessed Trinity Catholic School ",
          "Carondelet Catholic School (Minneapolis, MN)",
          "Community of Saints School",
          "Divine Mercy Catholic School",
          "Epiphany School ",
          "Faithful Shepherd Catholic School ",
          "Frassati Catholic Academy (White Bear Lake)",
          "Good Shepherd",
          "Highland Catholic St. Paul, MN)",
          "Hill-Murray School (Maplewood, MN)",
          "Holy Cross Catholic School ",
          "Holy Family Academy (St. Louis Park, MN)",
          "Holy Name of Jesus School",
          "Holy Spirit Elementary School",
          "Holy Trinity School (South Saint Paul, MN)",
          "Immaculate Conception",
          "Mary, Queen of Peace Catholic School",
          "Maternity of Mary - Saint Andrew School",
          "Most Holy Redeemer School",
          "Nativity of Mary School",
          "Nativity of Our Lord Catholic School",
          "Notre Dame Academy",
          "Our Lady of Grace",
          "Our Lady of Peace School (Minneapolis, MN)",
          "Our Lady of the Lake Catholic School",
          "Our Lady of the Prairie School",
          "Presentation of the Blessed Virgin Mary School (Maplewood, MN)",
          "Providence Academy (Plymouth, MN)",
          "Risen Christ Catholic School",
          "Sacred Heart School",
          "Saint Agnes School ",
          "Saint Ambrose of Woodbury",
          "Saint Anne's School (Le Sueur, MN)",
          "Saint Bartholomew's School (Wayzata, MN)",
          "Saint Charles Borromeo School (Saint Anthony, MN)",
          "Saint Croix Catholic School (Stillwater, MN)",
          "Saint Dominic Elementary School (Northfield, MN)",
          "Saint Elizabeth Ann Seton School ",
          "Saint Francis Xavier School (Buffalo, MN)",
          "Saint Helena School ",
          "Saint Hubert School (Chanhassen, MN)",
          "Saint Jerome School ",
          "Saint John Paul II Catholic School",
          "Saint John School of Little Canada ",
          "Saint John the Baptist Catholic Montessori (Excelsior)",
          "Saint John the Baptist Catholic School (Savage, MN)",
          "Saint John the Baptist School (Jordan, MN)",
          "Saint John the Baptist School (New Brighton, MN)",
          "Saint John the Baptist School (Vermillion, MN)",
          "Saint Joseph School (Rosemount, MN)",
          "Saint Joseph School (Waconia, MN)",
          "Saint Joseph's Catholic School (West Saint Paul, MN)",
          "Saint Jude of the Lake Catholic School (Mahtomedi, MN)",
          "Saint Maximilian Kolbe Academy (Delano, MN)",
          "Saint Michael Catholic School (Saint Michael, MN)",
          "Saint Michael School (Prior Lake, MN)",
          "Saint Odilia School",
          "Saint Pascal Baylon Regional School",
          "Saint Peter Claver School",
          "Saint Peter School (North Saint Paul, MN)",
          "Saint Peter's Catholic School (Forest Lake, MN)",
          "Saint Raphael Catholic School (Crystal, MN)",
          "Saint Rose of Lima School (Roseville, MN)",
          "Saint Stephen's Catholic School ",
          "Saint Therese School (Deephaven, MN)",
          "Saint Thomas Academy",
          "Saint Thomas More ",
          "Saint Timothy School ",
          "Saint Vincent de Paul Catholic School",
          "Saint Wenceslaus School (New Prague, MN)",
          "Shakopee Area Catholic School",
          "Transfiguration Catholic School ",
          "Visitation School",
          "Way of the Shepherd School (Blaine, MN)"
         ],
         "lat": {
          "bdata": "YFlpUgpSRkCOO6WD9XNGQN3vUBTof0ZA2qz6XG2NRkB2ieqtgXlGQFj/5zBfJkZAObnfoShwRkANGvonuHRGQFDCTNu/ckZAWP/nMF8mRkCxxAPKppRGQPjfSnZsbEZAQWX8+4yLRkB8m/7sR3pGQFUYWwhydEZAC+9yEd+BRkDdDDfg80NGQHaJ6q2BeUZA1xLyQc96RkBVGFsIcnRGQC8X8Z2YcUZA5q4l5IOGRkCthsQ9lpZGQB13Sgfrf0ZAYRqGj4g1RkBl3xXB/2pGQLprCfmgd0ZARYE+kSd1RkBrmneconNGQABSmzi5c0ZA5E7pYP13RkCTNeohGk1GQAvvchHfgUZAodtLGqOFRkCyYyMQr3dGQBqGj4gpgUZAOul942t7RkCRfvs6cHJGQHAIVWr2OEZA1xLyQc96RkC0AkNWt4JGQOi8xi5RiUZAak3zjlM8RkAlBoGVQ1tGQJgvL8A+lkZAwCZr1EN4RkAng6Pk1W1GQB13Sgfrf0ZAayv2l91/RkAdd0oH639GQGU2yCQjc0ZA6dSVz/JgRkDHRiBe11NGQIvDmV/NiUZA56kOuRlWRkC1VN6OcF5GQLZnlgSobUZAUMJM279yRkDGUE60q4hGQH9qvHSThEZAZcIv9fOaRkBmMbH5uFZGQEnXTL7ZikZAgVt381R7RkCuga0SLHpGQAvvchHfgUZAb57qkJuhRkAAOsyXF4hGQK9Cyk+qgUZAN6YnLPGkRkDXEvJBz3pGQGu3XWiub0ZAumsJ+aB3RkBcrKjBNKBGQPlJtU/Hj0ZAIqZEEr1ERkB4KAr0iWBGQF9egH10fkZAa7ddaK5vRkBvZB75g5VGQA==",
          "dtype": "f8"
         },
         "legendgroup": "",
         "lon": {
          "bdata": "7lpCPuhRV8BcIEHxY1JXwL4wmSoYU1fACFqBIatfV8DopPeNr1VXwL3GLlG9UVfAQKTfvg5SV8AqHaz/c1RXwEpGzsKeRlfAvcYuUb1RV8A486s5QFRXwGQGKuPfSVfAijxJumZAV8DV7IFWYFhXwCYeUDblSlfATwZHyatBV8AwDcNHxFhXwOik942vVVfAlDDT9q9iV8AmHlA25UpXwDjb3JieQlfAvOgrSDNQV8B3hNOCF2VXwKp9Oh4zRlfACMkCJnBjV8CgMv59xlFXwMaKGkzDSlfAKVyPwvVeV8BnRGlv8FdXwIkkehnFTlfAkxgEVg5rV8AdjxmojHFXwE8GR8mrQVfAet/42jNfV8AjSnuDL1BXwKAVGLK6VVfAQGoTJ/dHV8DAlezYCDpXwEMEHEKVelfAlDDT9q9iV8BIisiwik9XwKt4I/PINVfAUyKJXkZLV8C+pDFaRzdXwFQ1QdR9dlfAqmBUUidOV8CIgEOoUmNXwKp9Oh4zRlfAaCJseHpPV8CqfToeM0ZXwMIv9fOmZlfAOnXlszxXV8C2SrA4nGVXwO7O2m0XTFfAlpUmpaA9V8DqeMxAZURXwGR1q+ekcVfASkbOwp5GV8ClZg+0Aj1XwLlwICQLdFfAVfZdEfxrV8DKiXYVUlpXwG3F/rJ7SFfAMNgN2xZDV8BjRQ2mYUpXwE8GR8mrQVfAoWez6nNBV8AOT6+UZVhXwCS5/If0SVfAzHoxlBNbV8CUMNP2r2JXwCS05VyKSVfAxooaTMNKV8DgnBGlvX9XwLX9KytNWFfAXkvIBz1lV8BbttYXCWFXwIhodAexPVfAJLTlXIpJV8B56SYxCFBXwA==",
          "dtype": "f8"
         },
         "marker": {
          "color": {
           "bdata": "AAAAAAAAMkAAAAAAAAAxQAAAAAAAAFJAAAAAAAAAKkAAAAAAAAAgQAAAAAAAADZAAAAAAABAWEAAAAAAAAAUQAAAAAAAwFBAAAAAAAAAR0AAAAAAAABEQAAAAAAAAChAAAAAAAAAMkAAAAAAAAAiQAAAAAAAAEJAAAAAAAAAJEAAAAAAAAAoQAAAAAAAADFAAAAAAAAAKEAAAAAAAABBQAAAAAAAADJAAAAAAACAVkAAAAAAAAAcQAAAAAAAAD5AAAAAAAAAHEAAAAAAAABFQAAAAAAAADRAAAAAAAAAO0AAAAAAAAAYQAAAAAAAADxAAAAAAAAAN0AAAAAAAAAcQAAAAAAAAEpAAAAAAAAAOkAAAAAAAIBmQAAAAAAAgERAAAAAAACATUAAAAAAAAA4QAAAAAAAABxAAAAAAAAAGEAAAAAAAAA9QAAAAAAAAD5AAAAAAAAANkAAAAAAAAAuQAAAAAAAAD1AAAAAAAAASEAAAAAAAAAsQAAAAAAAQFhAAAAAAACAVEAAAAAAAABEQAAAAAAAACJAAAAAAAAAP0AAAAAAAAAoQAAAAAAAADhAAAAAAAAAKEAAAAAAAAA3QAAAAAAAADdAAAAAAACASEAAAAAAAAA6QAAAAAAAADVAAAAAAACAQEAAAAAAAAAsQAAAAAAAADNAAAAAAAAAS0AAAAAAAABHQAAAAAAAgEhAAAAAAAAAQEAAAAAAAABPQAAAAAAAADFAAAAAAAAAMkAAAAAAAAAoQAAAAAAAABhAAAAAAAAAPEAAAAAAAAA8QAAAAAAAADlAAAAAAAAANEAAAAAAAABOQAAAAAAAADlAAAAAAAAALEAAAAAAAAAxQA==",
           "dtype": "f8"
          },
          "coloraxis": "coloraxis",
          "size": {
           "bdata": "1Z6T6auEEUAAAAAAAAAUQHl4eHh4eDpAFRN0VykmIEDQUYEvrn4QQAAAAAAAADZAWX8Gv4meSEC2iOasQfH0P+YUvJyCF0FAagiVdKOYNUBphc2BRCssQKuQ9khUlgdAMB/ILixGIkBpdsam6HMHQP2BHikhpyJA9H2WiCGPCUAAAAAAAAAoQAHBkGwRzSFANb/BVUPSB0BIHnnkkUcyQHXRRRdddDRAfdYNpshnTkAu3/It3/IhQLHc0wjLPUFAx3Ecx3EcL0B6Mn671JMtQOgDqmNvbQhAAAAAAAAAKUBMJpPJZDLpP/e6173udS9AFZcMwTraMkCrqqqqqio9QPjee++990RAL7rooosuEkAkSZIkSZJMQOZ3tbgJ8zlAqDONGxh1KkAOcZUpYD4QQBhvZZ9DahpApqWlpaWlIUAeUwN7x9QiQEmSJEmSJCFASIM0SIM0PEBonlALGJMgQM+dO3fu3CNAD/ZbbQxNR0BZY+u5EQkCQM1lNJfRXExAYid2Yie2Q0BFrjMBg8cyQKalpaWlpTFANIVAUwg0KUDXUF5DeQ0lQKc9rgKCIRlAFrKQhSxkMUCst3v2sRkhQBzHcRzH8S9AC2tCPWWvKECYXEFMriAmQJyPwfkYnDlA5DiO4ziOHkCqqqqqqqoQQHhlA2gRNQlAOL3pTW96R0CnW/PDImVMQKK8hvIayjlA07UVOGadJkD0xxyl21dCQMBuj7UMHShAKOGNps6vFUDQUYEvrn4QQCuYJeWAyBBAFXZNcgmqJEBcMgTraPM2QIEFFlhggRVAQRqkQRqkKUCi0pE9A1EpQF9CewntJTdAh4eHh4eHF0AyfrvUk/E3QA==",
           "dtype": "f8"
          },
          "sizemode": "area",
          "sizeref": 0.2702702702702703
         },
         "mode": "markers",
         "name": "",
         "showlegend": false,
         "subplot": "map",
         "type": "scattermap"
        }
       ],
       "layout": {
        "coloraxis": {
         "colorbar": {
          "title": {
           "text": "Scholarships"
          }
         },
         "colorscale": [
          [
           0,
           "#440154"
          ],
          [
           0.1111111111111111,
           "#482878"
          ],
          [
           0.2222222222222222,
           "#3e4989"
          ],
          [
           0.3333333333333333,
           "#31688e"
          ],
          [
           0.4444444444444444,
           "#26828e"
          ],
          [
           0.5555555555555556,
           "#1f9e89"
          ],
          [
           0.6666666666666666,
           "#35b779"
          ],
          [
           0.7777777777777778,
           "#6ece58"
          ],
          [
           0.8888888888888888,
           "#b5de2b"
          ],
          [
           1,
           "#fde725"
          ]
         ]
        },
        "height": 600,
        "legend": {
         "itemsizing": "constant",
         "tracegroupgap": 0
        },
        "map": {
         "center": {
          "lat": 45.5,
          "lon": -93.5
         },
         "domain": {
          "x": [
           0,
           1
          ],
          "y": [
           0,
           1
          ]
         },
         "style": "open-street-map",
         "zoom": 7
        },
        "mapbox": {
         "center": {
          "lat": 45.5,
          "lon": -93.5
         },
         "style": "open-street-map",
         "zoom": 7
        },
        "template": {
         "data": {
          "bar": [
           {
            "error_x": {
             "color": "#2a3f5f"
            },
            "error_y": {
             "color": "#2a3f5f"
            },
            "marker": {
             "line": {
              "color": "#E5ECF6",
              "width": 0.5
             },
             "pattern": {
              "fillmode": "overlay",
              "size": 10,
              "solidity": 0.2
             }
            },
            "type": "bar"
           }
          ],
          "barpolar": [
           {
            "marker": {
             "line": {
              "color": "#E5ECF6",
              "width": 0.5
             },
             "pattern": {
              "fillmode": "overlay",
              "size": 10,
              "solidity": 0.2
             }
            },
            "type": "barpolar"
           }
          ],
          "carpet": [
           {
            "aaxis": {
             "endlinecolor": "#2a3f5f",
             "gridcolor": "white",
             "linecolor": "white",
             "minorgridcolor": "white",
             "startlinecolor": "#2a3f5f"
            },
            "baxis": {
             "endlinecolor": "#2a3f5f",
             "gridcolor": "white",
             "linecolor": "white",
             "minorgridcolor": "white",
             "startlinecolor": "#2a3f5f"
            },
            "type": "carpet"
           }
          ],
          "choropleth": [
           {
            "colorbar": {
             "outlinewidth": 0,
             "ticks": ""
            },
            "type": "choropleth"
           }
          ],
          "contour": [
           {
            "colorbar": {
             "outlinewidth": 0,
             "ticks": ""
            },
            "colorscale": [
             [
              0,
              "#0d0887"
             ],
             [
              0.1111111111111111,
              "#46039f"
             ],
             [
              0.2222222222222222,
              "#7201a8"
             ],
             [
              0.3333333333333333,
              "#9c179e"
             ],
             [
              0.4444444444444444,
              "#bd3786"
             ],
             [
              0.5555555555555556,
              "#d8576b"
             ],
             [
              0.6666666666666666,
              "#ed7953"
             ],
             [
              0.7777777777777778,
              "#fb9f3a"
             ],
             [
              0.8888888888888888,
              "#fdca26"
             ],
             [
              1,
              "#f0f921"
             ]
            ],
            "type": "contour"
           }
          ],
          "contourcarpet": [
           {
            "colorbar": {
             "outlinewidth": 0,
             "ticks": ""
            },
            "type": "contourcarpet"
           }
          ],
          "heatmap": [
           {
            "colorbar": {
             "outlinewidth": 0,
             "ticks": ""
            },
            "colorscale": [
             [
              0,
              "#0d0887"
             ],
             [
              0.1111111111111111,
              "#46039f"
             ],
             [
              0.2222222222222222,
              "#7201a8"
             ],
             [
              0.3333333333333333,
              "#9c179e"
             ],
             [
              0.4444444444444444,
              "#bd3786"
             ],
             [
              0.5555555555555556,
              "#d8576b"
             ],
             [
              0.6666666666666666,
              "#ed7953"
             ],
             [
              0.7777777777777778,
              "#fb9f3a"
             ],
             [
              0.8888888888888888,
              "#fdca26"
             ],
             [
              1,
              "#f0f921"
             ]
            ],
            "type": "heatmap"
           }
          ],
          "histogram": [
           {
            "marker": {
             "pattern": {
              "fillmode": "overlay",
              "size": 10,
              "solidity": 0.2
             }
            },
            "type": "histogram"
           }
          ],
          "histogram2d": [
           {
            "colorbar": {
             "outlinewidth": 0,
             "ticks": ""
            },
            "colorscale": [
             [
              0,
              "#0d0887"
             ],
             [
              0.1111111111111111,
              "#46039f"
             ],
             [
              0.2222222222222222,
              "#7201a8"
             ],
             [
              0.3333333333333333,
              "#9c179e"
             ],
             [
              0.4444444444444444,
              "#bd3786"
             ],
             [
              0.5555555555555556,
              "#d8576b"
             ],
             [
              0.6666666666666666,
              "#ed7953"
             ],
             [
              0.7777777777777778,
              "#fb9f3a"
             ],
             [
              0.8888888888888888,
              "#fdca26"
             ],
             [
              1,
              "#f0f921"
             ]
            ],
            "type": "histogram2d"
           }
          ],
          "histogram2dcontour": [
           {
            "colorbar": {
             "outlinewidth": 0,
             "ticks": ""
            },
            "colorscale": [
             [
              0,
              "#0d0887"
             ],
             [
              0.1111111111111111,
              "#46039f"
             ],
             [
              0.2222222222222222,
              "#7201a8"
             ],
             [
              0.3333333333333333,
              "#9c179e"
             ],
             [
              0.4444444444444444,
              "#bd3786"
             ],
             [
              0.5555555555555556,
              "#d8576b"
             ],
             [
              0.6666666666666666,
              "#ed7953"
             ],
             [
              0.7777777777777778,
              "#fb9f3a"
             ],
             [
              0.8888888888888888,
              "#fdca26"
             ],
             [
              1,
              "#f0f921"
             ]
            ],
            "type": "histogram2dcontour"
           }
          ],
          "mesh3d": [
           {
            "colorbar": {
             "outlinewidth": 0,
             "ticks": ""
            },
            "type": "mesh3d"
           }
          ],
          "parcoords": [
           {
            "line": {
             "colorbar": {
              "outlinewidth": 0,
              "ticks": ""
             }
            },
            "type": "parcoords"
           }
          ],
          "pie": [
           {
            "automargin": true,
            "type": "pie"
           }
          ],
          "scatter": [
           {
            "fillpattern": {
             "fillmode": "overlay",
             "size": 10,
             "solidity": 0.2
            },
            "type": "scatter"
           }
          ],
          "scatter3d": [
           {
            "line": {
             "colorbar": {
              "outlinewidth": 0,
              "ticks": ""
             }
            },
            "marker": {
             "colorbar": {
              "outlinewidth": 0,
              "ticks": ""
             }
            },
            "type": "scatter3d"
           }
          ],
          "scattercarpet": [
           {
            "marker": {
             "colorbar": {
              "outlinewidth": 0,
              "ticks": ""
             }
            },
            "type": "scattercarpet"
           }
          ],
          "scattergeo": [
           {
            "marker": {
             "colorbar": {
              "outlinewidth": 0,
              "ticks": ""
             }
            },
            "type": "scattergeo"
           }
          ],
          "scattergl": [
           {
            "marker": {
             "colorbar": {
              "outlinewidth": 0,
              "ticks": ""
             }
            },
            "type": "scattergl"
           }
          ],
          "scattermap": [
           {
            "marker": {
             "colorbar": {
              "outlinewidth": 0,
              "ticks": ""
             }
            },
            "type": "scattermap"
           }
          ],
          "scattermapbox": [
           {
            "marker": {
             "colorbar": {
              "outlinewidth": 0,
              "ticks": ""
             }
            },
            "type": "scattermapbox"
           }
          ],
          "scatterpolar": [
           {
            "marker": {
             "colorbar": {
              "outlinewidth": 0,
              "ticks": ""
             }
            },
            "type": "scatterpolar"
           }
          ],
          "scatterpolargl": [
           {
            "marker": {
             "colorbar": {
              "outlinewidth": 0,
              "ticks": ""
             }
            },
            "type": "scatterpolargl"
           }
          ],
          "scatterternary": [
           {
            "marker": {
             "colorbar": {
              "outlinewidth": 0,
              "ticks": ""
             }
            },
            "type": "scatterternary"
           }
          ],
          "surface": [
           {
            "colorbar": {
             "outlinewidth": 0,
             "ticks": ""
            },
            "colorscale": [
             [
              0,
              "#0d0887"
             ],
             [
              0.1111111111111111,
              "#46039f"
             ],
             [
              0.2222222222222222,
              "#7201a8"
             ],
             [
              0.3333333333333333,
              "#9c179e"
             ],
             [
              0.4444444444444444,
              "#bd3786"
             ],
             [
              0.5555555555555556,
              "#d8576b"
             ],
             [
              0.6666666666666666,
              "#ed7953"
             ],
             [
              0.7777777777777778,
              "#fb9f3a"
             ],
             [
              0.8888888888888888,
              "#fdca26"
             ],
             [
              1,
              "#f0f921"
             ]
            ],
            "type": "surface"
           }
          ],
          "table": [
           {
            "cells": {
             "fill": {
              "color": "#EBF0F8"
             },
             "line": {
              "color": "white"
             }
            },
            "header": {
             "fill": {
              "color": "#C8D4E3"
             },
             "line": {
              "color": "white"
             }
            },
            "type": "table"
           }
          ]
         },
         "layout": {
          "annotationdefaults": {
           "arrowcolor": "#2a3f5f",
           "arrowhead": 0,
           "arrowwidth": 1
          },
          "autotypenumbers": "strict",
          "coloraxis": {
           "colorbar": {
            "outlinewidth": 0,
            "ticks": ""
           }
          },
          "colorscale": {
           "diverging": [
            [
             0,
             "#8e0152"
            ],
            [
             0.1,
             "#c51b7d"
            ],
            [
             0.2,
             "#de77ae"
            ],
            [
             0.3,
             "#f1b6da"
            ],
            [
             0.4,
             "#fde0ef"
            ],
            [
             0.5,
             "#f7f7f7"
            ],
            [
             0.6,
             "#e6f5d0"
            ],
            [
             0.7,
             "#b8e186"
            ],
            [
             0.8,
             "#7fbc41"
            ],
            [
             0.9,
             "#4d9221"
            ],
            [
             1,
             "#276419"
            ]
           ],
           "sequential": [
            [
             0,
             "#0d0887"
            ],
            [
             0.1111111111111111,
             "#46039f"
            ],
            [
             0.2222222222222222,
             "#7201a8"
            ],
            [
             0.3333333333333333,
             "#9c179e"
            ],
            [
             0.4444444444444444,
             "#bd3786"
            ],
            [
             0.5555555555555556,
             "#d8576b"
            ],
            [
             0.6666666666666666,
             "#ed7953"
            ],
            [
             0.7777777777777778,
             "#fb9f3a"
            ],
            [
             0.8888888888888888,
             "#fdca26"
            ],
            [
             1,
             "#f0f921"
            ]
           ],
           "sequentialminus": [
            [
             0,
             "#0d0887"
            ],
            [
             0.1111111111111111,
             "#46039f"
            ],
            [
             0.2222222222222222,
             "#7201a8"
            ],
            [
             0.3333333333333333,
             "#9c179e"
            ],
            [
             0.4444444444444444,
             "#bd3786"
            ],
            [
             0.5555555555555556,
             "#d8576b"
            ],
            [
             0.6666666666666666,
             "#ed7953"
            ],
            [
             0.7777777777777778,
             "#fb9f3a"
            ],
            [
             0.8888888888888888,
             "#fdca26"
            ],
            [
             1,
             "#f0f921"
            ]
           ]
          },
          "colorway": [
           "#636efa",
           "#EF553B",
           "#00cc96",
           "#ab63fa",
           "#FFA15A",
           "#19d3f3",
           "#FF6692",
           "#B6E880",
           "#FF97FF",
           "#FECB52"
          ],
          "font": {
           "color": "#2a3f5f"
          },
          "geo": {
           "bgcolor": "white",
           "lakecolor": "white",
           "landcolor": "#E5ECF6",
           "showlakes": true,
           "showland": true,
           "subunitcolor": "white"
          },
          "hoverlabel": {
           "align": "left"
          },
          "hovermode": "closest",
          "mapbox": {
           "style": "light"
          },
          "paper_bgcolor": "white",
          "plot_bgcolor": "#E5ECF6",
          "polar": {
           "angularaxis": {
            "gridcolor": "white",
            "linecolor": "white",
            "ticks": ""
           },
           "bgcolor": "#E5ECF6",
           "radialaxis": {
            "gridcolor": "white",
            "linecolor": "white",
            "ticks": ""
           }
          },
          "scene": {
           "xaxis": {
            "backgroundcolor": "#E5ECF6",
            "gridcolor": "white",
            "gridwidth": 2,
            "linecolor": "white",
            "showbackground": true,
            "ticks": "",
            "zerolinecolor": "white"
           },
           "yaxis": {
            "backgroundcolor": "#E5ECF6",
            "gridcolor": "white",
            "gridwidth": 2,
            "linecolor": "white",
            "showbackground": true,
            "ticks": "",
            "zerolinecolor": "white"
           },
           "zaxis": {
            "backgroundcolor": "#E5ECF6",
            "gridcolor": "white",
            "gridwidth": 2,
            "linecolor": "white",
            "showbackground": true,
            "ticks": "",
            "zerolinecolor": "white"
           }
          },
          "shapedefaults": {
           "line": {
            "color": "#2a3f5f"
           }
          },
          "ternary": {
           "aaxis": {
            "gridcolor": "white",
            "linecolor": "white",
            "ticks": ""
           },
           "baxis": {
            "gridcolor": "white",
            "linecolor": "white",
            "ticks": ""
           },
           "bgcolor": "#E5ECF6",
           "caxis": {
            "gridcolor": "white",
            "linecolor": "white",
            "ticks": ""
           }
          },
          "title": {
           "x": 0.05
          },
          "xaxis": {
           "automargin": true,
           "gridcolor": "white",
           "linecolor": "white",
           "ticks": "",
           "title": {
            "standoff": 15
           },
           "zerolinecolor": "white",
           "zerolinewidth": 2
          },
          "yaxis": {
           "automargin": true,
           "gridcolor": "white",
           "linecolor": "white",
           "ticks": "",
           "title": {
            "standoff": 15
           },
           "zerolinecolor": "white",
           "zerolinewidth": 2
          }
         }
        },
        "title": {
         "text": "Minnesota Catholic Schools - Scholarships by Location (80 schools with coordinates)"
        }
       }
      }
     },
     "metadata": {},
     "output_type": "display_data"
    }
   ],
   "source": [
    "# Only use schools with valid coordinates for mapping\n",
    "df_with_coords = df_clean.dropna(subset=['lat', 'lon'])\n",
    "\n",
    "# Calculate total financial burden: (Tuition - 1000) * Scholarships\n",
    "df_with_coords = df_with_coords.copy()  # Avoid SettingWithCopyWarning\n",
    "df_with_coords['total_financial_burden'] = (df_with_coords['Tuition_Clean'] - 1000) * df_with_coords['Scholarships']\n",
    "\n",
    "# Create scatter map focused on scholarships (only for schools with coordinates)\n",
    "if len(df_with_coords) > 0:\n",
    "    fig_scatter = px.scatter_map(\n",
    "        df_with_coords,\n",
    "        lat='lat',\n",
    "        lon='lon',\n",
    "        color='Scholarships',\n",
    "        size='scholarship_percentage',\n",
    "        hover_name='School',\n",
    "        hover_data={\n",
    "            'zip_code': True,\n",
    "            'Scholarships': True,\n",
    "            'scholarship_percentage': ':.1f',\n",
    "            'total_financial_burden': ':,.0f',\n",
    "            'Tuition_Clean': ':.0f',\n",
    "            'Enrollment_Clean': ':.0f',\n",
    "            'School City': True\n",
    "        },\n",
    "        labels={\n",
    "            'Tuition_Clean': 'Tuition',\n",
    "            'Enrollment_Clean': 'Enrollment',\n",
    "            'scholarship_percentage': 'Scholarship %',\n",
    "            'total_financial_burden': 'Total Financial Burden'\n",
    "        },\n",
    "        color_continuous_scale=\"Viridis\",\n",
    "        size_max=15,\n",
    "        map_style=\"open-street-map\",\n",
    "        title=f\"Minnesota Catholic Schools - Scholarships by Location ({len(df_with_coords)} schools with coordinates)\",\n",
    "        zoom=7,\n",
    "        center={\"lat\": 45.5, \"lon\": -93.5}\n",
    "    )\n",
    "\n",
    "    fig_scatter.update_layout(height=600)\n",
    "    fig_scatter.show()\n"
   ]
  },
  {
   "cell_type": "code",
   "execution_count": 121,
   "metadata": {
    "jupyter": {
     "source_hidden": true
    }
   },
   "outputs": [],
   "source": [
    "# Prepare data for county-level analysis\n",
    "mapped_schools = df_clean.dropna(subset=['county_fips'])\n"
   ]
  },
  {
   "cell_type": "code",
   "execution_count": 122,
   "metadata": {
    "jupyter": {
     "source_hidden": true
    }
   },
   "outputs": [],
   "source": [
    "# Create county-level aggregated data for choropleth\n",
    "county_data = mapped_schools.groupby('county_fips').agg({\n",
    "    'Tuition_Clean': 'mean',\n",
    "    'Scholarships': 'sum', \n",
    "    'Enrollment_Clean': 'sum',\n",
    "    'School': 'count'\n",
    "}).reset_index()\n",
    "\n",
    "county_data.columns = ['county_fips', 'avg_tuition', 'total_scholarships', 'total_enrollment', 'school_count']\n"
   ]
  },
  {
   "cell_type": "code",
   "execution_count": 123,
   "metadata": {
    "jupyter": {
     "source_hidden": true
    }
   },
   "outputs": [
    {
     "data": {
      "application/vnd.plotly.v1+json": {
       "config": {
        "plotlyServerURL": "https://plot.ly"
       },
       "data": [
        {
         "coloraxis": "coloraxis",
         "customdata": {
          "bdata": "AAAAAACgZEAAAAAAAAAQQAAAAABAf7hAAAAAAAAYikAAAAAAAIBCQAAAAAAAAABAAAAAAIDHt0AAAAAAAOiHQAAAAAAAQG1AAAAAAAAAJEAAAAAAACXBQAAAAAAAvqJAAAAAAAA4jEAAAAAAAAA6QMVO7MTOj7pAAAAAAACLukAAAAAAAAAsQAAAAAAAAABAAAAAAAD8rEAAAAAAAOBiQAAAAAAAyINAAAAAAAAAMUDx8PDw8OS4QAAAAAAA0bFAAAAAAACAWUAAAAAAAAAQQAAAAAAASrVAAAAAAACwfkAAAAAAAABiQAAAAAAAABhAVVVVVdVetUAAAAAAABiVQAAAAAAAIGFAAAAAAAAAFEAAAAAAAGC4QAAAAAAAfJhAAAAAAADAW0AAAAAAAAAQQAAAAACAs7JAAAAAAAAAjUA=",
          "dtype": "f8",
          "shape": "10, 4"
         },
         "geo": "geo",
         "geojson": "https://raw.githubusercontent.com/plotly/datasets/master/geojson-counties-fips.json",
         "hovertemplate": "<b>%{hovertext}</b><br><br>county_fips=%{location}<br>total_scholarships=%{z}<br>school_count=%{customdata[1]}<br>avg_tuition=%{customdata[2]:.0f}<br>total_enrollment=%{customdata[3]:.0f}<extra></extra>",
         "hovertext": {
          "bdata": "AAAAAMBe2kAAAAAAwGLaQAAAAABAZ9pAAAAAAEBr2kAAAAAAwHHaQAAAAADAfNpAAAAAAMB+2kAAAAAAwIDaQAAAAADAhtpAAAAAAMCI2kA=",
          "dtype": "f8"
         },
         "locations": {
          "bdata": "e2mLaZ1prWnHafNp+2kDahtqI2o=",
          "dtype": "i2"
         },
         "name": "",
         "type": "choropleth",
         "z": {
          "bdata": "AAAAAACgZEAAAAAAAIBCQAAAAAAAQG1AAAAAAAA4jEAAAAAAAAAsQAAAAAAAyINAAAAAAACAWUAAAAAAAABiQAAAAAAAIGFAAAAAAADAW0A=",
          "dtype": "f8"
         }
        }
       ],
       "layout": {
        "coloraxis": {
         "colorbar": {
          "title": {
           "text": "total_scholarships"
          }
         },
         "colorscale": [
          [
           0,
           "#440154"
          ],
          [
           0.1111111111111111,
           "#482878"
          ],
          [
           0.2222222222222222,
           "#3e4989"
          ],
          [
           0.3333333333333333,
           "#31688e"
          ],
          [
           0.4444444444444444,
           "#26828e"
          ],
          [
           0.5555555555555556,
           "#1f9e89"
          ],
          [
           0.6666666666666666,
           "#35b779"
          ],
          [
           0.7777777777777778,
           "#6ece58"
          ],
          [
           0.8888888888888888,
           "#b5de2b"
          ],
          [
           1,
           "#fde725"
          ]
         ]
        },
        "geo": {
         "center": {
          "lat": 46.3,
          "lon": -94.3
         },
         "domain": {
          "x": [
           0,
           1
          ],
          "y": [
           0,
           1
          ]
         },
         "projection": {
          "scale": 8
         },
         "scope": "usa"
        },
        "height": 600,
        "legend": {
         "tracegroupgap": 0
        },
        "template": {
         "data": {
          "bar": [
           {
            "error_x": {
             "color": "#2a3f5f"
            },
            "error_y": {
             "color": "#2a3f5f"
            },
            "marker": {
             "line": {
              "color": "#E5ECF6",
              "width": 0.5
             },
             "pattern": {
              "fillmode": "overlay",
              "size": 10,
              "solidity": 0.2
             }
            },
            "type": "bar"
           }
          ],
          "barpolar": [
           {
            "marker": {
             "line": {
              "color": "#E5ECF6",
              "width": 0.5
             },
             "pattern": {
              "fillmode": "overlay",
              "size": 10,
              "solidity": 0.2
             }
            },
            "type": "barpolar"
           }
          ],
          "carpet": [
           {
            "aaxis": {
             "endlinecolor": "#2a3f5f",
             "gridcolor": "white",
             "linecolor": "white",
             "minorgridcolor": "white",
             "startlinecolor": "#2a3f5f"
            },
            "baxis": {
             "endlinecolor": "#2a3f5f",
             "gridcolor": "white",
             "linecolor": "white",
             "minorgridcolor": "white",
             "startlinecolor": "#2a3f5f"
            },
            "type": "carpet"
           }
          ],
          "choropleth": [
           {
            "colorbar": {
             "outlinewidth": 0,
             "ticks": ""
            },
            "type": "choropleth"
           }
          ],
          "contour": [
           {
            "colorbar": {
             "outlinewidth": 0,
             "ticks": ""
            },
            "colorscale": [
             [
              0,
              "#0d0887"
             ],
             [
              0.1111111111111111,
              "#46039f"
             ],
             [
              0.2222222222222222,
              "#7201a8"
             ],
             [
              0.3333333333333333,
              "#9c179e"
             ],
             [
              0.4444444444444444,
              "#bd3786"
             ],
             [
              0.5555555555555556,
              "#d8576b"
             ],
             [
              0.6666666666666666,
              "#ed7953"
             ],
             [
              0.7777777777777778,
              "#fb9f3a"
             ],
             [
              0.8888888888888888,
              "#fdca26"
             ],
             [
              1,
              "#f0f921"
             ]
            ],
            "type": "contour"
           }
          ],
          "contourcarpet": [
           {
            "colorbar": {
             "outlinewidth": 0,
             "ticks": ""
            },
            "type": "contourcarpet"
           }
          ],
          "heatmap": [
           {
            "colorbar": {
             "outlinewidth": 0,
             "ticks": ""
            },
            "colorscale": [
             [
              0,
              "#0d0887"
             ],
             [
              0.1111111111111111,
              "#46039f"
             ],
             [
              0.2222222222222222,
              "#7201a8"
             ],
             [
              0.3333333333333333,
              "#9c179e"
             ],
             [
              0.4444444444444444,
              "#bd3786"
             ],
             [
              0.5555555555555556,
              "#d8576b"
             ],
             [
              0.6666666666666666,
              "#ed7953"
             ],
             [
              0.7777777777777778,
              "#fb9f3a"
             ],
             [
              0.8888888888888888,
              "#fdca26"
             ],
             [
              1,
              "#f0f921"
             ]
            ],
            "type": "heatmap"
           }
          ],
          "histogram": [
           {
            "marker": {
             "pattern": {
              "fillmode": "overlay",
              "size": 10,
              "solidity": 0.2
             }
            },
            "type": "histogram"
           }
          ],
          "histogram2d": [
           {
            "colorbar": {
             "outlinewidth": 0,
             "ticks": ""
            },
            "colorscale": [
             [
              0,
              "#0d0887"
             ],
             [
              0.1111111111111111,
              "#46039f"
             ],
             [
              0.2222222222222222,
              "#7201a8"
             ],
             [
              0.3333333333333333,
              "#9c179e"
             ],
             [
              0.4444444444444444,
              "#bd3786"
             ],
             [
              0.5555555555555556,
              "#d8576b"
             ],
             [
              0.6666666666666666,
              "#ed7953"
             ],
             [
              0.7777777777777778,
              "#fb9f3a"
             ],
             [
              0.8888888888888888,
              "#fdca26"
             ],
             [
              1,
              "#f0f921"
             ]
            ],
            "type": "histogram2d"
           }
          ],
          "histogram2dcontour": [
           {
            "colorbar": {
             "outlinewidth": 0,
             "ticks": ""
            },
            "colorscale": [
             [
              0,
              "#0d0887"
             ],
             [
              0.1111111111111111,
              "#46039f"
             ],
             [
              0.2222222222222222,
              "#7201a8"
             ],
             [
              0.3333333333333333,
              "#9c179e"
             ],
             [
              0.4444444444444444,
              "#bd3786"
             ],
             [
              0.5555555555555556,
              "#d8576b"
             ],
             [
              0.6666666666666666,
              "#ed7953"
             ],
             [
              0.7777777777777778,
              "#fb9f3a"
             ],
             [
              0.8888888888888888,
              "#fdca26"
             ],
             [
              1,
              "#f0f921"
             ]
            ],
            "type": "histogram2dcontour"
           }
          ],
          "mesh3d": [
           {
            "colorbar": {
             "outlinewidth": 0,
             "ticks": ""
            },
            "type": "mesh3d"
           }
          ],
          "parcoords": [
           {
            "line": {
             "colorbar": {
              "outlinewidth": 0,
              "ticks": ""
             }
            },
            "type": "parcoords"
           }
          ],
          "pie": [
           {
            "automargin": true,
            "type": "pie"
           }
          ],
          "scatter": [
           {
            "fillpattern": {
             "fillmode": "overlay",
             "size": 10,
             "solidity": 0.2
            },
            "type": "scatter"
           }
          ],
          "scatter3d": [
           {
            "line": {
             "colorbar": {
              "outlinewidth": 0,
              "ticks": ""
             }
            },
            "marker": {
             "colorbar": {
              "outlinewidth": 0,
              "ticks": ""
             }
            },
            "type": "scatter3d"
           }
          ],
          "scattercarpet": [
           {
            "marker": {
             "colorbar": {
              "outlinewidth": 0,
              "ticks": ""
             }
            },
            "type": "scattercarpet"
           }
          ],
          "scattergeo": [
           {
            "marker": {
             "colorbar": {
              "outlinewidth": 0,
              "ticks": ""
             }
            },
            "type": "scattergeo"
           }
          ],
          "scattergl": [
           {
            "marker": {
             "colorbar": {
              "outlinewidth": 0,
              "ticks": ""
             }
            },
            "type": "scattergl"
           }
          ],
          "scattermap": [
           {
            "marker": {
             "colorbar": {
              "outlinewidth": 0,
              "ticks": ""
             }
            },
            "type": "scattermap"
           }
          ],
          "scattermapbox": [
           {
            "marker": {
             "colorbar": {
              "outlinewidth": 0,
              "ticks": ""
             }
            },
            "type": "scattermapbox"
           }
          ],
          "scatterpolar": [
           {
            "marker": {
             "colorbar": {
              "outlinewidth": 0,
              "ticks": ""
             }
            },
            "type": "scatterpolar"
           }
          ],
          "scatterpolargl": [
           {
            "marker": {
             "colorbar": {
              "outlinewidth": 0,
              "ticks": ""
             }
            },
            "type": "scatterpolargl"
           }
          ],
          "scatterternary": [
           {
            "marker": {
             "colorbar": {
              "outlinewidth": 0,
              "ticks": ""
             }
            },
            "type": "scatterternary"
           }
          ],
          "surface": [
           {
            "colorbar": {
             "outlinewidth": 0,
             "ticks": ""
            },
            "colorscale": [
             [
              0,
              "#0d0887"
             ],
             [
              0.1111111111111111,
              "#46039f"
             ],
             [
              0.2222222222222222,
              "#7201a8"
             ],
             [
              0.3333333333333333,
              "#9c179e"
             ],
             [
              0.4444444444444444,
              "#bd3786"
             ],
             [
              0.5555555555555556,
              "#d8576b"
             ],
             [
              0.6666666666666666,
              "#ed7953"
             ],
             [
              0.7777777777777778,
              "#fb9f3a"
             ],
             [
              0.8888888888888888,
              "#fdca26"
             ],
             [
              1,
              "#f0f921"
             ]
            ],
            "type": "surface"
           }
          ],
          "table": [
           {
            "cells": {
             "fill": {
              "color": "#EBF0F8"
             },
             "line": {
              "color": "white"
             }
            },
            "header": {
             "fill": {
              "color": "#C8D4E3"
             },
             "line": {
              "color": "white"
             }
            },
            "type": "table"
           }
          ]
         },
         "layout": {
          "annotationdefaults": {
           "arrowcolor": "#2a3f5f",
           "arrowhead": 0,
           "arrowwidth": 1
          },
          "autotypenumbers": "strict",
          "coloraxis": {
           "colorbar": {
            "outlinewidth": 0,
            "ticks": ""
           }
          },
          "colorscale": {
           "diverging": [
            [
             0,
             "#8e0152"
            ],
            [
             0.1,
             "#c51b7d"
            ],
            [
             0.2,
             "#de77ae"
            ],
            [
             0.3,
             "#f1b6da"
            ],
            [
             0.4,
             "#fde0ef"
            ],
            [
             0.5,
             "#f7f7f7"
            ],
            [
             0.6,
             "#e6f5d0"
            ],
            [
             0.7,
             "#b8e186"
            ],
            [
             0.8,
             "#7fbc41"
            ],
            [
             0.9,
             "#4d9221"
            ],
            [
             1,
             "#276419"
            ]
           ],
           "sequential": [
            [
             0,
             "#0d0887"
            ],
            [
             0.1111111111111111,
             "#46039f"
            ],
            [
             0.2222222222222222,
             "#7201a8"
            ],
            [
             0.3333333333333333,
             "#9c179e"
            ],
            [
             0.4444444444444444,
             "#bd3786"
            ],
            [
             0.5555555555555556,
             "#d8576b"
            ],
            [
             0.6666666666666666,
             "#ed7953"
            ],
            [
             0.7777777777777778,
             "#fb9f3a"
            ],
            [
             0.8888888888888888,
             "#fdca26"
            ],
            [
             1,
             "#f0f921"
            ]
           ],
           "sequentialminus": [
            [
             0,
             "#0d0887"
            ],
            [
             0.1111111111111111,
             "#46039f"
            ],
            [
             0.2222222222222222,
             "#7201a8"
            ],
            [
             0.3333333333333333,
             "#9c179e"
            ],
            [
             0.4444444444444444,
             "#bd3786"
            ],
            [
             0.5555555555555556,
             "#d8576b"
            ],
            [
             0.6666666666666666,
             "#ed7953"
            ],
            [
             0.7777777777777778,
             "#fb9f3a"
            ],
            [
             0.8888888888888888,
             "#fdca26"
            ],
            [
             1,
             "#f0f921"
            ]
           ]
          },
          "colorway": [
           "#636efa",
           "#EF553B",
           "#00cc96",
           "#ab63fa",
           "#FFA15A",
           "#19d3f3",
           "#FF6692",
           "#B6E880",
           "#FF97FF",
           "#FECB52"
          ],
          "font": {
           "color": "#2a3f5f"
          },
          "geo": {
           "bgcolor": "white",
           "lakecolor": "white",
           "landcolor": "#E5ECF6",
           "showlakes": true,
           "showland": true,
           "subunitcolor": "white"
          },
          "hoverlabel": {
           "align": "left"
          },
          "hovermode": "closest",
          "mapbox": {
           "style": "light"
          },
          "paper_bgcolor": "white",
          "plot_bgcolor": "#E5ECF6",
          "polar": {
           "angularaxis": {
            "gridcolor": "white",
            "linecolor": "white",
            "ticks": ""
           },
           "bgcolor": "#E5ECF6",
           "radialaxis": {
            "gridcolor": "white",
            "linecolor": "white",
            "ticks": ""
           }
          },
          "scene": {
           "xaxis": {
            "backgroundcolor": "#E5ECF6",
            "gridcolor": "white",
            "gridwidth": 2,
            "linecolor": "white",
            "showbackground": true,
            "ticks": "",
            "zerolinecolor": "white"
           },
           "yaxis": {
            "backgroundcolor": "#E5ECF6",
            "gridcolor": "white",
            "gridwidth": 2,
            "linecolor": "white",
            "showbackground": true,
            "ticks": "",
            "zerolinecolor": "white"
           },
           "zaxis": {
            "backgroundcolor": "#E5ECF6",
            "gridcolor": "white",
            "gridwidth": 2,
            "linecolor": "white",
            "showbackground": true,
            "ticks": "",
            "zerolinecolor": "white"
           }
          },
          "shapedefaults": {
           "line": {
            "color": "#2a3f5f"
           }
          },
          "ternary": {
           "aaxis": {
            "gridcolor": "white",
            "linecolor": "white",
            "ticks": ""
           },
           "baxis": {
            "gridcolor": "white",
            "linecolor": "white",
            "ticks": ""
           },
           "bgcolor": "#E5ECF6",
           "caxis": {
            "gridcolor": "white",
            "linecolor": "white",
            "ticks": ""
           }
          },
          "title": {
           "x": 0.05
          },
          "xaxis": {
           "automargin": true,
           "gridcolor": "white",
           "linecolor": "white",
           "ticks": "",
           "title": {
            "standoff": 15
           },
           "zerolinecolor": "white",
           "zerolinewidth": 2
          },
          "yaxis": {
           "automargin": true,
           "gridcolor": "white",
           "linecolor": "white",
           "ticks": "",
           "title": {
            "standoff": 15
           },
           "zerolinecolor": "white",
           "zerolinewidth": 2
          }
         }
        },
        "title": {
         "text": "Minnesota Catholic Schools - Total Scholarships by County (10 counties with data)",
         "x": 0.5
        }
       }
      },
      "image/png": "[encoded data removed]"
     },
     "metadata": {},
     "output_type": "display_data"
    }
   ],
   "source": [
    "# Create choropleth map focused on scholarships\n",
    "if len(county_data) > 0:\n",
    "    fig_choropleth = px.choropleth(\n",
    "        county_data,\n",
    "        geojson=\"https://raw.githubusercontent.com/plotly/datasets/master/geojson-counties-fips.json\",\n",
    "        locations='county_fips',\n",
    "        color='total_scholarships',\n",
    "        hover_name='county_fips',\n",
    "        hover_data={\n",
    "            'total_scholarships': True,\n",
    "            'school_count': True,\n",
    "            'avg_tuition': ':.0f',\n",
    "            'total_enrollment': ':.0f'\n",
    "        },\n",
    "        color_continuous_scale=\"Viridis\",\n",
    "        title=f\"Minnesota Catholic Schools - Total Scholarships by County ({len(county_data)} counties with data)\"\n",
    "    )\n",
    "\n",
    "    # Focus on Minnesota\n",
    "    fig_choropleth.update_geos(\n",
    "        center=dict(lat=46.3, lon=-94.3),\n",
    "        projection_scale=8,\n",
    "        scope='usa'\n",
    "    )\n",
    "\n",
    "    fig_choropleth.update_layout(\n",
    "        title_x=0.5,\n",
    "        height=600\n",
    "    )\n",
    "\n",
    "    fig_choropleth.show()\n"
   ]
  }
 ],
 "metadata": {
  "kernelspec": {
   "display_name": "Python 3 (ipykernel)",
   "language": "python",
   "name": "python3"
  },
  "language_info": {
   "codemirror_mode": {
    "name": "ipython",
    "version": 3
   },
   "file_extension": ".py",
   "mimetype": "text/x-python",
   "name": "python",
   "nbconvert_exporter": "python",
   "pygments_lexer": "ipython3",
   "version": "3.13.3"
  }
 },
 "nbformat": 4,
 "nbformat_minor": 4
}
